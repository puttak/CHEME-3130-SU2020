{
 "cells": [
  {
   "cell_type": "markdown",
   "metadata": {},
   "source": [
    "<img src=\"./figs/Rankine.pdf\">\n",
    "\n",
    "\n",
    "### Example\n",
    "Compute the steady-state rate of shaft work $\\dot{W}_{s}$ (kW), and the irreversible enthlapy change from an insulated turbine with efficiency of $\\eta$=86\\%. The working fluid is water with a steady-state flow rate of $\\dot{m}$ = 4.0 kg/s. Let the input temperature T$_{2}$ = 500$^{\\circ}$C and pressure P$_{2}$ = 11 MPa. The temperature of the exit stream from the turbine is T$_{3}$ = 100$^{\\circ}$C."
   ]
  },
  {
   "cell_type": "markdown",
   "metadata": {},
   "source": [
    "### Approach\n",
    "\n",
    "Starting from the steady-state open first law equation:\n",
    "\\begin{equation}\n",
    "\t\\dot{Q}+\\dot{W}_{s} + \\sum_{s=1}^{\\mathcal{S}}\\nu_{s}H_{s}\\dot{m}_{s}  =  0\n",
    "\\end{equation}we can begin by throwing out terms. The turbine is insulated, so $\\dot{Q}_{s}$ = 0 which (after rearrangment) gives an expression for the work:\n",
    "\n",
    "\\begin{equation}\n",
    "\\dot{W}_{s} = \\dot{m}\\Bigl(H_{3} - H_{2}\\Bigr)_{I}\n",
    "\\end{equation}\n",
    "\n",
    "where the superscript $I$ denotes irreversible (we have an efficiency less that 100\\%, so the real transformation is irreversible). We know that efficiency is given by:\n",
    "\n",
    "\\begin{equation}\n",
    "\\eta_{T} = \\frac{\\Delta{H}_{I}}{\\Delta{H}_{R}}\n",
    "\\end{equation}\n",
    "\n",
    "Thus, we can substitute the $\\eta_{T}$ into the work expression to arrive at:\n",
    "\n",
    "\\begin{equation}\n",
    "\\dot{W}_{s} = \\eta_{T}\\Bigl[\\dot{m}\\bigl(H_{3} - H_{2}\\bigr)_{R}\\Bigr]\n",
    "\\end{equation}\n",
    "\n",
    "where the subscript $R$ denotes the reversible enthalpy change\n"
   ]
  },
  {
   "cell_type": "markdown",
   "metadata": {},
   "source": [
    "### Solution"
   ]
  },
  {
   "cell_type": "markdown",
   "metadata": {},
   "source": [
    "<img src=\"./figs/PH-diagram-Water-OPs.pdf\">"
   ]
  },
  {
   "cell_type": "markdown",
   "metadata": {},
   "source": [
    "Using the P-H diagram for water, we label the two operating points and lookup the corresponsing enthalpies. "
   ]
  },
  {
   "cell_type": "code",
   "execution_count": 2,
   "metadata": {},
   "outputs": [],
   "source": [
    "# Data from the problem and the PH-diagram -\n",
    "mdot = 4.0 # units: kg/s\n",
    "H2 = 3400  # units: kJ/kg\n",
    "H3 = 2400  # units: kJ/kg\n",
    "eta_T = 0.86;"
   ]
  },
  {
   "cell_type": "code",
   "execution_count": 3,
   "metadata": {},
   "outputs": [
    {
     "data": {
      "text/plain": [
       "-3440.0"
      ]
     },
     "execution_count": 3,
     "metadata": {},
     "output_type": "execute_result"
    }
   ],
   "source": [
    "# What is the work recovered from the turbine?\n",
    "Wdot = eta_T*(mdot*(H3 - H2))"
   ]
  },
  {
   "cell_type": "code",
   "execution_count": 5,
   "metadata": {},
   "outputs": [
    {
     "data": {
      "text/plain": [
       "-860.0"
      ]
     },
     "execution_count": 5,
     "metadata": {},
     "output_type": "execute_result"
    }
   ],
   "source": [
    "# What is the irreversible enthlapy change?\n",
    "DH_I = eta_T*(H3-H2)"
   ]
  },
  {
   "cell_type": "markdown",
   "metadata": {},
   "source": [
    "<img src=\"./figs/PH-diagram-Water-OPs-IRR.pdf\">"
   ]
  },
  {
   "cell_type": "code",
   "execution_count": 8,
   "metadata": {},
   "outputs": [
    {
     "data": {
      "text/plain": [
       "2.0"
      ]
     },
     "execution_count": 8,
     "metadata": {},
     "output_type": "execute_result"
    }
   ],
   "source": [
    "# what is the rate of entropy generation?\n",
    "S2 = 6.5 #units: kJ/kg-K\n",
    "S3 = 7.0 #units: kJ/kg-K\n",
    "\n",
    "# balance -\n",
    "SG_dot = mdot*(S3-S2)"
   ]
  },
  {
   "cell_type": "code",
   "execution_count": null,
   "metadata": {},
   "outputs": [],
   "source": []
  }
 ],
 "metadata": {
  "kernelspec": {
   "display_name": "Julia 1.4.2",
   "language": "julia",
   "name": "julia-1.4"
  },
  "language_info": {
   "file_extension": ".jl",
   "mimetype": "application/julia",
   "name": "julia",
   "version": "1.4.2"
  }
 },
 "nbformat": 4,
 "nbformat_minor": 4
}
