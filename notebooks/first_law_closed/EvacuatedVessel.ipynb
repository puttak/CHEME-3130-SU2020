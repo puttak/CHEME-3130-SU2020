{
 "cells": [
  {
   "cell_type": "markdown",
   "metadata": {},
   "source": [
    "<img src=\"./figs/MembraneProblem.pdf\">\n",
    "\n",
    "**Example:** Consider an _insulated_ vessel with two compartments separated by a non-permeable membrane. The leftmost compartment (compartment 1) contains 2 mol of Difluoromethane (CH$_{2}$F$_{2}$) at P$_{1}$ = 3 bar and T$_{1}$ = 150$^{\\circ}$C, while the rightmost compartment (compartment 2) is evacuated. The membrane separating the compartments ruptures, filling compartment 2. The final pressure is P = 0.1 bar. \n",
    "\n",
    "Determine the final temperature $T$ of CH$_{2}$F$_{2}$ and the total Volume $V$ of the container, and the volume of compartment 1 and 2"
   ]
  },
  {
   "cell_type": "markdown",
   "metadata": {},
   "source": [
    "** Solution **\n",
    "\n",
    "Since there is no flow into or from the container, the system as closed. Furthermore, the vessel is _insulated_, thus there is no heat transfer between the system (container) and the surroundings. Starting from the closed first law:\n",
    "\n",
    "\\begin{equation}\n",
    "\\delta{Q} = dU - \\delta{W}\n",
    "\\end{equation} \n",
    "\n",
    "we can throw of the heat transfer term $\\delta{Q}$ = 0, and the work term $\\delta{W}$ = 0, which leaves:\n",
    "\n",
    "\\begin{equation}\n",
    "dU = 0\n",
    "\\end{equation}"
   ]
  },
  {
   "cell_type": "markdown",
   "metadata": {},
   "source": [
    "which says there is no change in internal energy between the initial state (before the membrane ruptures) and the final state (after equilibrium is regained). How do we estimate the temperature and volume? Let's start with temperature. We know the starting pressure P$_{1}$ and temperature T$_{1}$, and that internal energy is constant. Thus, we can use the NIST data set for CH$_{2}$Cl$_{2}$ to estimate the final temperature $T$."
   ]
  },
  {
   "cell_type": "code",
   "execution_count": 2,
   "metadata": {},
   "outputs": [
    {
     "data": {
      "text/html": [
       "<table class=\"data-frame\"><thead><tr><th></th><th>Temperature (C)</th><th>Pressure (bar)</th><th>Density (mol/l)</th><th>Volume (l/mol)</th><th>Internal Energy (kJ/mol)</th></tr><tr><th></th><th>Float64</th><th>Float64</th><th>Float64</th><th>Float64</th><th>Float64</th></tr></thead><tbody><p>21 rows × 14 columns (omitted printing of 9 columns)</p><tr><th>1</th><td>50.0</td><td>3.0</td><td>0.11483</td><td>8.7086</td><td>27.471</td></tr><tr><th>2</th><td>55.0</td><td>3.0</td><td>0.1129</td><td>8.8571</td><td>27.664</td></tr><tr><th>3</th><td>60.0</td><td>3.0</td><td>0.11105</td><td>9.0051</td><td>27.858</td></tr><tr><th>4</th><td>65.0</td><td>3.0</td><td>0.10926</td><td>9.1526</td><td>28.053</td></tr><tr><th>5</th><td>70.0</td><td>3.0</td><td>0.10753</td><td>9.2995</td><td>28.25</td></tr><tr><th>6</th><td>75.0</td><td>3.0</td><td>0.10586</td><td>9.446</td><td>28.448</td></tr><tr><th>7</th><td>80.0</td><td>3.0</td><td>0.10425</td><td>9.5921</td><td>28.649</td></tr><tr><th>8</th><td>85.0</td><td>3.0</td><td>0.10269</td><td>9.7378</td><td>28.85</td></tr><tr><th>9</th><td>90.0</td><td>3.0</td><td>0.10118</td><td>9.8831</td><td>29.054</td></tr><tr><th>10</th><td>95.0</td><td>3.0</td><td>0.099719</td><td>10.028</td><td>29.26</td></tr><tr><th>11</th><td>100.0</td><td>3.0</td><td>0.098301</td><td>10.173</td><td>29.467</td></tr><tr><th>12</th><td>105.0</td><td>3.0</td><td>0.096924</td><td>10.317</td><td>29.676</td></tr><tr><th>13</th><td>110.0</td><td>3.0</td><td>0.095589</td><td>10.461</td><td>29.887</td></tr><tr><th>14</th><td>115.0</td><td>3.0</td><td>0.094291</td><td>10.605</td><td>30.1</td></tr><tr><th>15</th><td>120.0</td><td>3.0</td><td>0.093031</td><td>10.749</td><td>30.314</td></tr><tr><th>16</th><td>125.0</td><td>3.0</td><td>0.091805</td><td>10.893</td><td>30.531</td></tr><tr><th>17</th><td>130.0</td><td>3.0</td><td>0.090613</td><td>11.036</td><td>30.75</td></tr><tr><th>18</th><td>135.0</td><td>3.0</td><td>0.089453</td><td>11.179</td><td>30.97</td></tr><tr><th>19</th><td>140.0</td><td>3.0</td><td>0.088324</td><td>11.322</td><td>31.193</td></tr><tr><th>20</th><td>145.0</td><td>3.0</td><td>0.087224</td><td>11.465</td><td>31.417</td></tr><tr><th>21</th><td>150.0</td><td>3.0</td><td>0.086153</td><td>11.607</td><td>31.643</td></tr></tbody></table>"
      ],
      "text/latex": [
       "\\begin{tabular}{r|cccccc}\n",
       "\t& Temperature (C) & Pressure (bar) & Density (mol/l) & Volume (l/mol) & Internal Energy (kJ/mol) & \\\\\n",
       "\t\\hline\n",
       "\t& Float64 & Float64 & Float64 & Float64 & Float64 & \\\\\n",
       "\t\\hline\n",
       "\t1 & 50.0 & 3.0 & 0.11483 & 8.7086 & 27.471 & $\\dots$ \\\\\n",
       "\t2 & 55.0 & 3.0 & 0.1129 & 8.8571 & 27.664 & $\\dots$ \\\\\n",
       "\t3 & 60.0 & 3.0 & 0.11105 & 9.0051 & 27.858 & $\\dots$ \\\\\n",
       "\t4 & 65.0 & 3.0 & 0.10926 & 9.1526 & 28.053 & $\\dots$ \\\\\n",
       "\t5 & 70.0 & 3.0 & 0.10753 & 9.2995 & 28.25 & $\\dots$ \\\\\n",
       "\t6 & 75.0 & 3.0 & 0.10586 & 9.446 & 28.448 & $\\dots$ \\\\\n",
       "\t7 & 80.0 & 3.0 & 0.10425 & 9.5921 & 28.649 & $\\dots$ \\\\\n",
       "\t8 & 85.0 & 3.0 & 0.10269 & 9.7378 & 28.85 & $\\dots$ \\\\\n",
       "\t9 & 90.0 & 3.0 & 0.10118 & 9.8831 & 29.054 & $\\dots$ \\\\\n",
       "\t10 & 95.0 & 3.0 & 0.099719 & 10.028 & 29.26 & $\\dots$ \\\\\n",
       "\t11 & 100.0 & 3.0 & 0.098301 & 10.173 & 29.467 & $\\dots$ \\\\\n",
       "\t12 & 105.0 & 3.0 & 0.096924 & 10.317 & 29.676 & $\\dots$ \\\\\n",
       "\t13 & 110.0 & 3.0 & 0.095589 & 10.461 & 29.887 & $\\dots$ \\\\\n",
       "\t14 & 115.0 & 3.0 & 0.094291 & 10.605 & 30.1 & $\\dots$ \\\\\n",
       "\t15 & 120.0 & 3.0 & 0.093031 & 10.749 & 30.314 & $\\dots$ \\\\\n",
       "\t16 & 125.0 & 3.0 & 0.091805 & 10.893 & 30.531 & $\\dots$ \\\\\n",
       "\t17 & 130.0 & 3.0 & 0.090613 & 11.036 & 30.75 & $\\dots$ \\\\\n",
       "\t18 & 135.0 & 3.0 & 0.089453 & 11.179 & 30.97 & $\\dots$ \\\\\n",
       "\t19 & 140.0 & 3.0 & 0.088324 & 11.322 & 31.193 & $\\dots$ \\\\\n",
       "\t20 & 145.0 & 3.0 & 0.087224 & 11.465 & 31.417 & $\\dots$ \\\\\n",
       "\t21 & 150.0 & 3.0 & 0.086153 & 11.607 & 31.643 & $\\dots$ \\\\\n",
       "\\end{tabular}\n"
      ],
      "text/plain": [
       "21×14 DataFrame. Omitted printing of 10 columns\n",
       "│ Row │ Temperature (C) │ Pressure (bar) │ Density (mol/l) │ Volume (l/mol) │\n",
       "│     │ \u001b[90mFloat64\u001b[39m         │ \u001b[90mFloat64\u001b[39m        │ \u001b[90mFloat64\u001b[39m         │ \u001b[90mFloat64\u001b[39m        │\n",
       "├─────┼─────────────────┼────────────────┼─────────────────┼────────────────┤\n",
       "│ 1   │ 50.0            │ 3.0            │ 0.11483         │ 8.7086         │\n",
       "│ 2   │ 55.0            │ 3.0            │ 0.1129          │ 8.8571         │\n",
       "│ 3   │ 60.0            │ 3.0            │ 0.11105         │ 9.0051         │\n",
       "│ 4   │ 65.0            │ 3.0            │ 0.10926         │ 9.1526         │\n",
       "│ 5   │ 70.0            │ 3.0            │ 0.10753         │ 9.2995         │\n",
       "│ 6   │ 75.0            │ 3.0            │ 0.10586         │ 9.446          │\n",
       "│ 7   │ 80.0            │ 3.0            │ 0.10425         │ 9.5921         │\n",
       "│ 8   │ 85.0            │ 3.0            │ 0.10269         │ 9.7378         │\n",
       "│ 9   │ 90.0            │ 3.0            │ 0.10118         │ 9.8831         │\n",
       "│ 10  │ 95.0            │ 3.0            │ 0.099719        │ 10.028         │\n",
       "│ 11  │ 100.0           │ 3.0            │ 0.098301        │ 10.173         │\n",
       "│ 12  │ 105.0           │ 3.0            │ 0.096924        │ 10.317         │\n",
       "│ 13  │ 110.0           │ 3.0            │ 0.095589        │ 10.461         │\n",
       "│ 14  │ 115.0           │ 3.0            │ 0.094291        │ 10.605         │\n",
       "│ 15  │ 120.0           │ 3.0            │ 0.093031        │ 10.749         │\n",
       "│ 16  │ 125.0           │ 3.0            │ 0.091805        │ 10.893         │\n",
       "│ 17  │ 130.0           │ 3.0            │ 0.090613        │ 11.036         │\n",
       "│ 18  │ 135.0           │ 3.0            │ 0.089453        │ 11.179         │\n",
       "│ 19  │ 140.0           │ 3.0            │ 0.088324        │ 11.322         │\n",
       "│ 20  │ 145.0           │ 3.0            │ 0.087224        │ 11.465         │\n",
       "│ 21  │ 150.0           │ 3.0            │ 0.086153        │ 11.607         │"
      ]
     },
     "execution_count": 2,
     "metadata": {},
     "output_type": "execute_result"
    }
   ],
   "source": [
    "# Load some Julia stuff\n",
    "using DataFrames\n",
    "using CSV\n",
    "\n",
    "# Lets lookup the internal energy for CH2F2 at the initial conditions (before the membrane failed)\n",
    "# conditions for the query: 50 <= T <= 150 at P = 3 bar\n",
    "initial_data_table = CSV.read(\"CH2F2-NIST-Initial.txt\",delim='\\t')"
   ]
  },
  {
   "cell_type": "markdown",
   "metadata": {},
   "source": [
    "From the table, the internal energy of CH$_{2}$F$_{2}$ at T$_{1}$ = 150$^{\\circ}$C and P$_{1}$ = 3 bar is u$_{1}$ = 31.643 kJ mol$^{-1}$ \n",
    "(see row 21)"
   ]
  },
  {
   "cell_type": "markdown",
   "metadata": {},
   "source": [
    "We can now use the fact that the internal energy is the constant to find the new equilibrium temperature $T$ because we know the final pressure $P$ = 1.5 bar. "
   ]
  },
  {
   "cell_type": "code",
   "execution_count": 5,
   "metadata": {},
   "outputs": [
    {
     "data": {
      "text/html": [
       "<table class=\"data-frame\"><thead><tr><th></th><th>Temperature (C)</th><th>Pressure (bar)</th><th>Density (mol/l)</th><th>Volume (l/mol)</th><th>Internal Energy (kJ/mol)</th><th>Enthalpy (kJ/mol)</th><th>Entropy (J/mol*K)</th><th>Cv (J/mol*K)</th><th>Cp (J/mol*K)</th><th>Sound Spd. (m/s)</th><th>Joule-Thomson (K/bar)</th><th>Viscosity (uPa*s)</th><th>Therm. Cond. (W/m*K)</th><th>Phase</th></tr></thead><tbody><tr><th>1</th><td>147.0</td><td>0.1</td><td>0.0028636</td><td>349.21</td><td>31.605</td><td>35.097</td><td>172.56</td><td>44.733</td><td>53.063</td><td>282.13</td><td>0.86296</td><td>17.631</td><td>0.023811</td><td>vapor</td></tr><tr><th>2</th><td>147.1</td><td>0.1</td><td>0.0028629</td><td>349.29</td><td>31.61</td><td>35.103</td><td>172.57</td><td>44.741</td><td>53.072</td><td>282.16</td><td>0.86236</td><td>17.635</td><td>0.023823</td><td>vapor</td></tr><tr><th>3</th><td>147.2</td><td>0.1</td><td>0.0028622</td><td>349.38</td><td>31.614</td><td>35.108</td><td>172.58</td><td>44.75</td><td>53.08</td><td>282.19</td><td>0.86175</td><td>17.639</td><td>0.023834</td><td>vapor</td></tr><tr><th>4</th><td>147.3</td><td>0.1</td><td>0.0028616</td><td>349.46</td><td>31.619</td><td>35.113</td><td>172.6</td><td>44.758</td><td>53.088</td><td>282.22</td><td>0.86115</td><td>17.643</td><td>0.023846</td><td>vapor</td></tr><tr><th>5</th><td>147.4</td><td>0.1</td><td>0.0028609</td><td>349.54</td><td>31.623</td><td>35.119</td><td>172.61</td><td>44.766</td><td>53.097</td><td>282.25</td><td>0.86055</td><td>17.647</td><td>0.023858</td><td>vapor</td></tr><tr><th>6</th><td>147.5</td><td>0.1</td><td>0.0028602</td><td>349.63</td><td>31.628</td><td>35.124</td><td>172.62</td><td>44.775</td><td>53.105</td><td>282.28</td><td>0.85995</td><td>17.651</td><td>0.02387</td><td>vapor</td></tr><tr><th>7</th><td>147.6</td><td>0.1</td><td>0.0028595</td><td>349.71</td><td>31.632</td><td>35.129</td><td>172.63</td><td>44.783</td><td>53.113</td><td>282.31</td><td>0.85935</td><td>17.654</td><td>0.023882</td><td>vapor</td></tr><tr><th>8</th><td>147.7</td><td>0.1</td><td>0.0028588</td><td>349.79</td><td>31.637</td><td>35.135</td><td>172.65</td><td>44.791</td><td>53.122</td><td>282.34</td><td>0.85875</td><td>17.658</td><td>0.023894</td><td>vapor</td></tr><tr><th>9</th><td>147.8</td><td>0.1</td><td>0.0028582</td><td>349.88</td><td>31.641</td><td>35.14</td><td>172.66</td><td>44.799</td><td>53.13</td><td>282.37</td><td>0.85815</td><td>17.662</td><td>0.023905</td><td>vapor</td></tr><tr><th>10</th><td>147.9</td><td>0.1</td><td>0.0028575</td><td>349.96</td><td>31.646</td><td>35.145</td><td>172.67</td><td>44.808</td><td>53.138</td><td>282.4</td><td>0.85755</td><td>17.666</td><td>0.023917</td><td>vapor</td></tr><tr><th>11</th><td>148.0</td><td>0.1</td><td>0.0028568</td><td>350.04</td><td>31.65</td><td>35.15</td><td>172.68</td><td>44.816</td><td>53.146</td><td>282.43</td><td>0.85695</td><td>17.67</td><td>0.023929</td><td>vapor</td></tr><tr><th>12</th><td>148.1</td><td>0.1</td><td>0.0028561</td><td>350.13</td><td>31.655</td><td>35.156</td><td>172.7</td><td>44.824</td><td>53.155</td><td>282.45</td><td>0.85635</td><td>17.674</td><td>0.023941</td><td>vapor</td></tr><tr><th>13</th><td>148.2</td><td>0.1</td><td>0.0028554</td><td>350.21</td><td>31.659</td><td>35.161</td><td>172.71</td><td>44.833</td><td>53.163</td><td>282.48</td><td>0.85575</td><td>17.678</td><td>0.023953</td><td>vapor</td></tr><tr><th>14</th><td>148.3</td><td>0.1</td><td>0.0028548</td><td>350.29</td><td>31.663</td><td>35.166</td><td>172.72</td><td>44.841</td><td>53.171</td><td>282.51</td><td>0.85516</td><td>17.682</td><td>0.023964</td><td>vapor</td></tr><tr><th>15</th><td>148.4</td><td>0.1</td><td>0.0028541</td><td>350.38</td><td>31.668</td><td>35.172</td><td>172.73</td><td>44.849</td><td>53.18</td><td>282.54</td><td>0.85456</td><td>17.686</td><td>0.023976</td><td>vapor</td></tr><tr><th>16</th><td>148.5</td><td>0.1</td><td>0.0028534</td><td>350.46</td><td>31.672</td><td>35.177</td><td>172.75</td><td>44.858</td><td>53.188</td><td>282.57</td><td>0.85397</td><td>17.69</td><td>0.023988</td><td>vapor</td></tr><tr><th>17</th><td>148.6</td><td>0.1</td><td>0.0028527</td><td>350.54</td><td>31.677</td><td>35.182</td><td>172.76</td><td>44.866</td><td>53.196</td><td>282.6</td><td>0.85337</td><td>17.694</td><td>0.024</td><td>vapor</td></tr><tr><th>18</th><td>148.7</td><td>0.1</td><td>0.0028521</td><td>350.62</td><td>31.681</td><td>35.188</td><td>172.77</td><td>44.874</td><td>53.204</td><td>282.63</td><td>0.85278</td><td>17.697</td><td>0.024012</td><td>vapor</td></tr><tr><th>19</th><td>148.8</td><td>0.1</td><td>0.0028514</td><td>350.71</td><td>31.686</td><td>35.193</td><td>172.78</td><td>44.882</td><td>53.213</td><td>282.66</td><td>0.85218</td><td>17.701</td><td>0.024024</td><td>vapor</td></tr><tr><th>20</th><td>148.9</td><td>0.1</td><td>0.0028507</td><td>350.79</td><td>31.69</td><td>35.198</td><td>172.8</td><td>44.891</td><td>53.221</td><td>282.69</td><td>0.85159</td><td>17.705</td><td>0.024036</td><td>vapor</td></tr><tr><th>21</th><td>149.0</td><td>0.1</td><td>0.00285</td><td>350.87</td><td>31.695</td><td>35.204</td><td>172.81</td><td>44.899</td><td>53.229</td><td>282.72</td><td>0.851</td><td>17.709</td><td>0.024047</td><td>vapor</td></tr><tr><th>22</th><td>149.1</td><td>0.1</td><td>0.0028493</td><td>350.96</td><td>31.699</td><td>35.209</td><td>172.82</td><td>44.907</td><td>53.238</td><td>282.75</td><td>0.85041</td><td>17.713</td><td>0.024059</td><td>vapor</td></tr><tr><th>23</th><td>149.2</td><td>0.1</td><td>0.0028487</td><td>351.04</td><td>31.704</td><td>35.214</td><td>172.83</td><td>44.916</td><td>53.246</td><td>282.78</td><td>0.84982</td><td>17.717</td><td>0.024071</td><td>vapor</td></tr><tr><th>24</th><td>149.3</td><td>0.1</td><td>0.002848</td><td>351.12</td><td>31.708</td><td>35.22</td><td>172.85</td><td>44.924</td><td>53.254</td><td>282.81</td><td>0.84923</td><td>17.721</td><td>0.024083</td><td>vapor</td></tr><tr><th>25</th><td>149.4</td><td>0.1</td><td>0.0028473</td><td>351.21</td><td>31.713</td><td>35.225</td><td>172.86</td><td>44.932</td><td>53.262</td><td>282.84</td><td>0.84864</td><td>17.725</td><td>0.024095</td><td>vapor</td></tr><tr><th>26</th><td>149.5</td><td>0.1</td><td>0.0028466</td><td>351.29</td><td>31.717</td><td>35.23</td><td>172.87</td><td>44.941</td><td>53.271</td><td>282.87</td><td>0.84805</td><td>17.729</td><td>0.024107</td><td>vapor</td></tr><tr><th>27</th><td>149.6</td><td>0.1</td><td>0.002846</td><td>351.37</td><td>31.722</td><td>35.236</td><td>172.89</td><td>44.949</td><td>53.279</td><td>282.9</td><td>0.84746</td><td>17.733</td><td>0.024119</td><td>vapor</td></tr><tr><th>28</th><td>149.7</td><td>0.1</td><td>0.0028453</td><td>351.46</td><td>31.726</td><td>35.241</td><td>172.9</td><td>44.957</td><td>53.287</td><td>282.93</td><td>0.84687</td><td>17.737</td><td>0.024131</td><td>vapor</td></tr><tr><th>29</th><td>149.8</td><td>0.1</td><td>0.0028446</td><td>351.54</td><td>31.731</td><td>35.246</td><td>172.91</td><td>44.965</td><td>53.296</td><td>282.96</td><td>0.84628</td><td>17.741</td><td>0.024143</td><td>vapor</td></tr><tr><th>30</th><td>149.9</td><td>0.1</td><td>0.0028439</td><td>351.62</td><td>31.735</td><td>35.252</td><td>172.92</td><td>44.974</td><td>53.304</td><td>282.98</td><td>0.84569</td><td>17.744</td><td>0.024155</td><td>vapor</td></tr><tr><th>&vellip;</th><td>&vellip;</td><td>&vellip;</td><td>&vellip;</td><td>&vellip;</td><td>&vellip;</td><td>&vellip;</td><td>&vellip;</td><td>&vellip;</td><td>&vellip;</td><td>&vellip;</td><td>&vellip;</td><td>&vellip;</td><td>&vellip;</td><td>&vellip;</td></tr></tbody></table>"
      ],
      "text/plain": [
       "31×14 DataFrame. Omitted printing of 10 columns\n",
       "│ Row │ Temperature (C) │ Pressure (bar) │ Density (mol/l) │ Volume (l/mol) │\n",
       "├─────┼─────────────────┼────────────────┼─────────────────┼────────────────┤\n",
       "│ 1   │ 147.0           │ 0.1            │ 0.0028636       │ 349.21         │\n",
       "│ 2   │ 147.1           │ 0.1            │ 0.0028629       │ 349.29         │\n",
       "│ 3   │ 147.2           │ 0.1            │ 0.0028622       │ 349.38         │\n",
       "│ 4   │ 147.3           │ 0.1            │ 0.0028616       │ 349.46         │\n",
       "│ 5   │ 147.4           │ 0.1            │ 0.0028609       │ 349.54         │\n",
       "│ 6   │ 147.5           │ 0.1            │ 0.0028602       │ 349.63         │\n",
       "│ 7   │ 147.6           │ 0.1            │ 0.0028595       │ 349.71         │\n",
       "│ 8   │ 147.7           │ 0.1            │ 0.0028588       │ 349.79         │\n",
       "│ 9   │ 147.8           │ 0.1            │ 0.0028582       │ 349.88         │\n",
       "│ 10  │ 147.9           │ 0.1            │ 0.0028575       │ 349.96         │\n",
       "│ 11  │ 148.0           │ 0.1            │ 0.0028568       │ 350.04         │\n",
       "⋮\n",
       "│ 20  │ 148.9           │ 0.1            │ 0.0028507       │ 350.79         │\n",
       "│ 21  │ 149.0           │ 0.1            │ 0.00285         │ 350.87         │\n",
       "│ 22  │ 149.1           │ 0.1            │ 0.0028493       │ 350.96         │\n",
       "│ 23  │ 149.2           │ 0.1            │ 0.0028487       │ 351.04         │\n",
       "│ 24  │ 149.3           │ 0.1            │ 0.002848        │ 351.12         │\n",
       "│ 25  │ 149.4           │ 0.1            │ 0.0028473       │ 351.21         │\n",
       "│ 26  │ 149.5           │ 0.1            │ 0.0028466       │ 351.29         │\n",
       "│ 27  │ 149.6           │ 0.1            │ 0.002846        │ 351.37         │\n",
       "│ 28  │ 149.7           │ 0.1            │ 0.0028453       │ 351.46         │\n",
       "│ 29  │ 149.8           │ 0.1            │ 0.0028446       │ 351.54         │\n",
       "│ 30  │ 149.9           │ 0.1            │ 0.0028439       │ 351.62         │\n",
       "│ 31  │ 150.0           │ 0.1            │ 0.0028433       │ 351.71         │"
      ]
     },
     "execution_count": 5,
     "metadata": {},
     "output_type": "execute_result"
    }
   ],
   "source": [
    "# Lookup the properties of CH2F2 on NIST using the criteria:\n",
    "# 25 <= T <= 150 at P = 0.1 bar\n",
    "final_data_table = CSV.read(\"CH2F2-NIST-Final.txt\",delim='\\t')"
   ]
  },
  {
   "cell_type": "markdown",
   "metadata": {},
   "source": [
    "Mathching the internal energy gives at the final pressure gives __$T\\simeq$ 147.85$^{\\circ}$C__ (in between row 9 and 10)"
   ]
  },
  {
   "cell_type": "markdown",
   "metadata": {},
   "source": [
    "__Estimate final volume $V$:__ From the final data table, we know the final specific volume $v$ equals:"
   ]
  },
  {
   "cell_type": "code",
   "execution_count": 3,
   "metadata": {},
   "outputs": [
    {
     "data": {
      "text/plain": [
       "349.91999999999996"
      ]
     },
     "execution_count": 3,
     "metadata": {},
     "output_type": "execute_result"
    }
   ],
   "source": [
    "final_specific_volume = (349.88+349.96)*(1/2) # units: L/mol (average between entries)"
   ]
  },
  {
   "cell_type": "code",
   "execution_count": 15,
   "metadata": {},
   "outputs": [
    {
     "data": {
      "text/plain": [
       "699.8399999999999"
      ]
     },
     "execution_count": 15,
     "metadata": {},
     "output_type": "execute_result"
    }
   ],
   "source": [
    "# We have 2 mol of CH2F2, so the total system volume is ..\n",
    "total_system_volume = 2*final_specific_volume"
   ]
  },
  {
   "cell_type": "markdown",
   "metadata": {},
   "source": [
    "__Estimate V$_{1}$:__ To estimate V$_{1}$, we can lookup the specific volume at the initial conditions before the membrane ruptured."
   ]
  },
  {
   "cell_type": "code",
   "execution_count": 16,
   "metadata": {},
   "outputs": [
    {
     "data": {
      "text/plain": [
       "23.214"
      ]
     },
     "execution_count": 16,
     "metadata": {},
     "output_type": "execute_result"
    }
   ],
   "source": [
    "volume_compartment_1 = 2*11.607 # units L"
   ]
  },
  {
   "cell_type": "markdown",
   "metadata": {},
   "source": [
    "__Estimate V$_{2}$:__ The volume of compartment 2 ($V_{2}$) is the total system volume $V$ minus the volume of compartment 1 (V$_{1}$):"
   ]
  },
  {
   "cell_type": "code",
   "execution_count": 17,
   "metadata": {},
   "outputs": [
    {
     "data": {
      "text/plain": [
       "676.626"
      ]
     },
     "execution_count": 17,
     "metadata": {},
     "output_type": "execute_result"
    }
   ],
   "source": [
    "volume_compartment_2 = total_system_volume - volume_compartment_1 # units: L"
   ]
  },
  {
   "cell_type": "code",
   "execution_count": null,
   "metadata": {},
   "outputs": [],
   "source": []
  }
 ],
 "metadata": {
  "kernelspec": {
   "display_name": "Julia 1.1.0",
   "language": "julia",
   "name": "julia-1.1"
  },
  "language_info": {
   "file_extension": ".jl",
   "mimetype": "application/julia",
   "name": "julia",
   "version": "1.1.0"
  }
 },
 "nbformat": 4,
 "nbformat_minor": 2
}
