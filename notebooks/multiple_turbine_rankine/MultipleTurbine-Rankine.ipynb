{
 "cells": [
  {
   "cell_type": "markdown",
   "metadata": {},
   "source": [
    "<img src=\"./figs/Diagram.pdf\">\n",
    "\n",
    "### Exmaple\n",
    "Let's calculate how the efficiency of the Rankine cycle changes as we include multiple turbines. Assume the working fluid is R134a, all pumps and turbines are ideal, and all of our other standard assumptions"
   ]
  },
  {
   "cell_type": "markdown",
   "metadata": {},
   "source": [
    "### Approach\n",
    "\n",
    "The efficiency expression for Rankine is $\\eta$ = -$\\dot{W}_{net}$/$\\dot{Q}_{12}$. However, in this case (in addition to $\\dot{Q}_{12}$) we have a second heat investment step, namely $\\dot{Q}_{34}$, and two work steps, namely $\\dot{W}_{23}$ and $\\dot{W}_{45}$. Putting ths together, we have an updated efficiency expression:\n",
    "\n",
    "\\begin{equation}\n",
    "\\eta = -\\frac{\\Delta{H}_{32} + \\Delta{H}_{54}}{\\Delta{H}_{21}+\\Delta{H}_{43}}\n",
    "\\end{equation}\n",
    "\n",
    "where we used the open first law to develop expressions for the work outputs and heat inputs, and divided out $\\dot{m}$."
   ]
  },
  {
   "cell_type": "markdown",
   "metadata": {},
   "source": [
    "### Numerical example\n",
    "\n",
    "<img src=\"./figs/PH-R134A-ModRankine.pdf\">"
   ]
  },
  {
   "cell_type": "code",
   "execution_count": 3,
   "metadata": {},
   "outputs": [],
   "source": [
    "# H_array (from the PH-diagram)\n",
    "H_array = [120.0 450.0 380.0 475.0 360.0 120.0] # units: kJ/kg\n",
    "\n",
    "# compute the DHs -\n",
    "DH21 = H_array[2] - H_array[1];\n",
    "DH32 = H_array[3] - H_array[2];\n",
    "DH43 = H_array[4] - H_array[3];\n",
    "DH54 = H_array[5] - H_array[4];\n",
    "DH65 = H_array[6] - H_array[5];"
   ]
  },
  {
   "cell_type": "code",
   "execution_count": 8,
   "metadata": {},
   "outputs": [
    {
     "data": {
      "text/plain": [
       "0.43529411764705883"
      ]
     },
     "execution_count": 8,
     "metadata": {},
     "output_type": "execute_result"
    }
   ],
   "source": [
    "# calculate eta -\n",
    "eta = -1*((DH32+DH54)/(DH21+DH43))"
   ]
  },
  {
   "cell_type": "markdown",
   "metadata": {},
   "source": [
    "#### Sanity check: is it ok to negelect the pump work?"
   ]
  },
  {
   "cell_type": "markdown",
   "metadata": {},
   "source": [
    "See PH-diagram; $\\Delta{H}_{16}\\ll\\Delta{H}_{32}$. Thus, pump work is small compared to turbine work"
   ]
  },
  {
   "cell_type": "code",
   "execution_count": null,
   "metadata": {},
   "outputs": [],
   "source": []
  }
 ],
 "metadata": {
  "kernelspec": {
   "display_name": "Julia 1.4.2",
   "language": "julia",
   "name": "julia-1.4"
  },
  "language_info": {
   "file_extension": ".jl",
   "mimetype": "application/julia",
   "name": "julia",
   "version": "1.4.2"
  }
 },
 "nbformat": 4,
 "nbformat_minor": 4
}
