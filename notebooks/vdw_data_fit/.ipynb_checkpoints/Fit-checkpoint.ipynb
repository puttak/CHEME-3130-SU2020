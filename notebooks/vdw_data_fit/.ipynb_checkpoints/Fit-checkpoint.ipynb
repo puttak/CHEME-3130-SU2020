{
 "cells": [
  {
   "cell_type": "markdown",
   "metadata": {},
   "source": [
    "### Example: Fit the van der Waals equation of state to Methane data "
   ]
  },
  {
   "cell_type": "code",
   "execution_count": 46,
   "metadata": {},
   "outputs": [],
   "source": [
    "# includes -\n",
    "include(\"./src/Include.jl\");"
   ]
  },
  {
   "cell_type": "code",
   "execution_count": 14,
   "metadata": {},
   "outputs": [],
   "source": [
    "# setup the problem -\n",
    "path_to_data_file = \"./Methane-NIST-152K.txt\";\n",
    "path_to_properties_file = \"./Properties.toml\";"
   ]
  },
  {
   "cell_type": "code",
   "execution_count": 15,
   "metadata": {},
   "outputs": [
    {
     "data": {
      "text/html": [
       "<table class=\"data-frame\"><thead><tr><th></th><th>Temperature (K)</th><th>Pressure (MPa)</th><th>Density (mol/l)</th><th>Volume (l/mol)</th><th>Internal Energy (kJ/mol)</th></tr><tr><th></th><th>Float64</th><th>Float64</th><th>Float64</th><th>Float64</th><th>Float64</th></tr></thead><tbody><p>602 rows × 14 columns (omitted printing of 9 columns)</p><tr><th>1</th><td>152.0</td><td>0.01</td><td>0.0079237</td><td>126.2</td><td>8.3712</td></tr><tr><th>2</th><td>152.0</td><td>0.02</td><td>0.01587</td><td>63.014</td><td>8.368</td></tr><tr><th>3</th><td>152.0</td><td>0.03</td><td>0.023838</td><td>41.95</td><td>8.3647</td></tr><tr><th>4</th><td>152.0</td><td>0.04</td><td>0.031829</td><td>31.418</td><td>8.3613</td></tr><tr><th>5</th><td>152.0</td><td>0.05</td><td>0.039842</td><td>25.099</td><td>8.358</td></tr><tr><th>6</th><td>152.0</td><td>0.06</td><td>0.047879</td><td>20.886</td><td>8.3547</td></tr><tr><th>7</th><td>152.0</td><td>0.07</td><td>0.055939</td><td>17.877</td><td>8.3513</td></tr><tr><th>8</th><td>152.0</td><td>0.08</td><td>0.064022</td><td>15.62</td><td>8.348</td></tr><tr><th>9</th><td>152.0</td><td>0.09</td><td>0.072129</td><td>13.864</td><td>8.3446</td></tr><tr><th>10</th><td>152.0</td><td>0.1</td><td>0.080259</td><td>12.46</td><td>8.3412</td></tr><tr><th>11</th><td>152.0</td><td>0.11</td><td>0.088413</td><td>11.311</td><td>8.3378</td></tr><tr><th>12</th><td>152.0</td><td>0.12</td><td>0.096592</td><td>10.353</td><td>8.3344</td></tr><tr><th>13</th><td>152.0</td><td>0.13</td><td>0.10479</td><td>9.5425</td><td>8.331</td></tr><tr><th>14</th><td>152.0</td><td>0.14</td><td>0.11302</td><td>8.8478</td><td>8.3276</td></tr><tr><th>15</th><td>152.0</td><td>0.15</td><td>0.12127</td><td>8.2458</td><td>8.3241</td></tr><tr><th>16</th><td>152.0</td><td>0.16</td><td>0.12955</td><td>7.7189</td><td>8.3207</td></tr><tr><th>17</th><td>152.0</td><td>0.17</td><td>0.13785</td><td>7.254</td><td>8.3172</td></tr><tr><th>18</th><td>152.0</td><td>0.18</td><td>0.14618</td><td>6.8408</td><td>8.3137</td></tr><tr><th>19</th><td>152.0</td><td>0.19</td><td>0.15454</td><td>6.471</td><td>8.3102</td></tr><tr><th>20</th><td>152.0</td><td>0.2</td><td>0.16292</td><td>6.1382</td><td>8.3067</td></tr><tr><th>21</th><td>152.0</td><td>0.21</td><td>0.17132</td><td>5.837</td><td>8.3032</td></tr><tr><th>22</th><td>152.0</td><td>0.22</td><td>0.17975</td><td>5.5632</td><td>8.2997</td></tr><tr><th>23</th><td>152.0</td><td>0.23</td><td>0.18821</td><td>5.3132</td><td>8.2961</td></tr><tr><th>24</th><td>152.0</td><td>0.24</td><td>0.1967</td><td>5.084</td><td>8.2926</td></tr><tr><th>25</th><td>152.0</td><td>0.25</td><td>0.20521</td><td>4.8731</td><td>8.289</td></tr><tr><th>26</th><td>152.0</td><td>0.26</td><td>0.21375</td><td>4.6784</td><td>8.2854</td></tr><tr><th>27</th><td>152.0</td><td>0.27</td><td>0.22232</td><td>4.4981</td><td>8.2818</td></tr><tr><th>28</th><td>152.0</td><td>0.28</td><td>0.23091</td><td>4.3307</td><td>8.2782</td></tr><tr><th>29</th><td>152.0</td><td>0.29</td><td>0.23953</td><td>4.1748</td><td>8.2746</td></tr><tr><th>30</th><td>152.0</td><td>0.3</td><td>0.24819</td><td>4.0292</td><td>8.271</td></tr><tr><th>&vellip;</th><td>&vellip;</td><td>&vellip;</td><td>&vellip;</td><td>&vellip;</td><td>&vellip;</td></tr></tbody></table>"
      ],
      "text/latex": [
       "\\begin{tabular}{r|cccccc}\n",
       "\t& Temperature (K) & Pressure (MPa) & Density (mol/l) & Volume (l/mol) & Internal Energy (kJ/mol) & \\\\\n",
       "\t\\hline\n",
       "\t& Float64 & Float64 & Float64 & Float64 & Float64 & \\\\\n",
       "\t\\hline\n",
       "\t1 & 152.0 & 0.01 & 0.0079237 & 126.2 & 8.3712 & $\\dots$ \\\\\n",
       "\t2 & 152.0 & 0.02 & 0.01587 & 63.014 & 8.368 & $\\dots$ \\\\\n",
       "\t3 & 152.0 & 0.03 & 0.023838 & 41.95 & 8.3647 & $\\dots$ \\\\\n",
       "\t4 & 152.0 & 0.04 & 0.031829 & 31.418 & 8.3613 & $\\dots$ \\\\\n",
       "\t5 & 152.0 & 0.05 & 0.039842 & 25.099 & 8.358 & $\\dots$ \\\\\n",
       "\t6 & 152.0 & 0.06 & 0.047879 & 20.886 & 8.3547 & $\\dots$ \\\\\n",
       "\t7 & 152.0 & 0.07 & 0.055939 & 17.877 & 8.3513 & $\\dots$ \\\\\n",
       "\t8 & 152.0 & 0.08 & 0.064022 & 15.62 & 8.348 & $\\dots$ \\\\\n",
       "\t9 & 152.0 & 0.09 & 0.072129 & 13.864 & 8.3446 & $\\dots$ \\\\\n",
       "\t10 & 152.0 & 0.1 & 0.080259 & 12.46 & 8.3412 & $\\dots$ \\\\\n",
       "\t11 & 152.0 & 0.11 & 0.088413 & 11.311 & 8.3378 & $\\dots$ \\\\\n",
       "\t12 & 152.0 & 0.12 & 0.096592 & 10.353 & 8.3344 & $\\dots$ \\\\\n",
       "\t13 & 152.0 & 0.13 & 0.10479 & 9.5425 & 8.331 & $\\dots$ \\\\\n",
       "\t14 & 152.0 & 0.14 & 0.11302 & 8.8478 & 8.3276 & $\\dots$ \\\\\n",
       "\t15 & 152.0 & 0.15 & 0.12127 & 8.2458 & 8.3241 & $\\dots$ \\\\\n",
       "\t16 & 152.0 & 0.16 & 0.12955 & 7.7189 & 8.3207 & $\\dots$ \\\\\n",
       "\t17 & 152.0 & 0.17 & 0.13785 & 7.254 & 8.3172 & $\\dots$ \\\\\n",
       "\t18 & 152.0 & 0.18 & 0.14618 & 6.8408 & 8.3137 & $\\dots$ \\\\\n",
       "\t19 & 152.0 & 0.19 & 0.15454 & 6.471 & 8.3102 & $\\dots$ \\\\\n",
       "\t20 & 152.0 & 0.2 & 0.16292 & 6.1382 & 8.3067 & $\\dots$ \\\\\n",
       "\t21 & 152.0 & 0.21 & 0.17132 & 5.837 & 8.3032 & $\\dots$ \\\\\n",
       "\t22 & 152.0 & 0.22 & 0.17975 & 5.5632 & 8.2997 & $\\dots$ \\\\\n",
       "\t23 & 152.0 & 0.23 & 0.18821 & 5.3132 & 8.2961 & $\\dots$ \\\\\n",
       "\t24 & 152.0 & 0.24 & 0.1967 & 5.084 & 8.2926 & $\\dots$ \\\\\n",
       "\t25 & 152.0 & 0.25 & 0.20521 & 4.8731 & 8.289 & $\\dots$ \\\\\n",
       "\t26 & 152.0 & 0.26 & 0.21375 & 4.6784 & 8.2854 & $\\dots$ \\\\\n",
       "\t27 & 152.0 & 0.27 & 0.22232 & 4.4981 & 8.2818 & $\\dots$ \\\\\n",
       "\t28 & 152.0 & 0.28 & 0.23091 & 4.3307 & 8.2782 & $\\dots$ \\\\\n",
       "\t29 & 152.0 & 0.29 & 0.23953 & 4.1748 & 8.2746 & $\\dots$ \\\\\n",
       "\t30 & 152.0 & 0.3 & 0.24819 & 4.0292 & 8.271 & $\\dots$ \\\\\n",
       "\t$\\dots$ & $\\dots$ & $\\dots$ & $\\dots$ & $\\dots$ & $\\dots$ &  \\\\\n",
       "\\end{tabular}\n"
      ],
      "text/plain": [
       "602×14 DataFrame. Omitted printing of 10 columns\n",
       "│ Row │ Temperature (K) │ Pressure (MPa) │ Density (mol/l) │ Volume (l/mol) │\n",
       "│     │ \u001b[90mFloat64\u001b[39m         │ \u001b[90mFloat64\u001b[39m        │ \u001b[90mFloat64\u001b[39m         │ \u001b[90mFloat64\u001b[39m        │\n",
       "├─────┼─────────────────┼────────────────┼─────────────────┼────────────────┤\n",
       "│ 1   │ 152.0           │ 0.01           │ 0.0079237       │ 126.2          │\n",
       "│ 2   │ 152.0           │ 0.02           │ 0.01587         │ 63.014         │\n",
       "│ 3   │ 152.0           │ 0.03           │ 0.023838        │ 41.95          │\n",
       "│ 4   │ 152.0           │ 0.04           │ 0.031829        │ 31.418         │\n",
       "│ 5   │ 152.0           │ 0.05           │ 0.039842        │ 25.099         │\n",
       "│ 6   │ 152.0           │ 0.06           │ 0.047879        │ 20.886         │\n",
       "│ 7   │ 152.0           │ 0.07           │ 0.055939        │ 17.877         │\n",
       "│ 8   │ 152.0           │ 0.08           │ 0.064022        │ 15.62          │\n",
       "│ 9   │ 152.0           │ 0.09           │ 0.072129        │ 13.864         │\n",
       "│ 10  │ 152.0           │ 0.1            │ 0.080259        │ 12.46          │\n",
       "⋮\n",
       "│ 592 │ 152.0           │ 5.9            │ 22.74           │ 0.043976       │\n",
       "│ 593 │ 152.0           │ 5.91           │ 22.741          │ 0.043974       │\n",
       "│ 594 │ 152.0           │ 5.92           │ 22.742          │ 0.043971       │\n",
       "│ 595 │ 152.0           │ 5.93           │ 22.743          │ 0.043969       │\n",
       "│ 596 │ 152.0           │ 5.94           │ 22.745          │ 0.043966       │\n",
       "│ 597 │ 152.0           │ 5.95           │ 22.746          │ 0.043964       │\n",
       "│ 598 │ 152.0           │ 5.96           │ 22.747          │ 0.043961       │\n",
       "│ 599 │ 152.0           │ 5.97           │ 22.748          │ 0.043959       │\n",
       "│ 600 │ 152.0           │ 5.98           │ 22.75           │ 0.043957       │\n",
       "│ 601 │ 152.0           │ 5.99           │ 22.751          │ 0.043954       │\n",
       "│ 602 │ 152.0           │ 6.0            │ 22.752          │ 0.043952       │"
      ]
     },
     "execution_count": 15,
     "metadata": {},
     "output_type": "execute_result"
    }
   ],
   "source": [
    "# What is the data?\n",
    "df = load_data_table(path_to_data_file)"
   ]
  },
  {
   "cell_type": "code",
   "execution_count": 16,
   "metadata": {},
   "outputs": [
    {
     "data": {
      "text/plain": [
       "2-element Array{Float64,1}:\n",
       " 0.19081262192707166\n",
       " 0.031891777916375375"
      ]
     },
     "execution_count": 16,
     "metadata": {},
     "output_type": "execute_result"
    }
   ],
   "source": [
    "# fit model parameters -\n",
    "pV = fit_model(path_to_data_file, path_to_properties_file)"
   ]
  },
  {
   "cell_type": "code",
   "execution_count": 17,
   "metadata": {},
   "outputs": [
    {
     "data": {
      "text/plain": [
       "2-element Array{Float64,1}:\n",
       " 0.230428514993304\n",
       " 0.04309664581066377"
      ]
     },
     "execution_count": 17,
     "metadata": {},
     "output_type": "execute_result"
    }
   ],
   "source": [
    "# Sanity check - what are the parameters if we use the critical point?\n",
    "pd = load_material_properties(path_to_properties_file)[\"methane\"]\n",
    "working_fluid_model = buildSingleComponentWorkingFluid(pd)\n",
    "vdwEOS = buildVanDerWaalsEquationOfState(working_fluid_model)\n",
    "pV_ip = [vdwEOS.a ; vdwEOS.b]"
   ]
  },
  {
   "cell_type": "code",
   "execution_count": 22,
   "metadata": {},
   "outputs": [
    {
     "data": {
      "image/png": "[encoded data removed]",
      "text/plain": [
       "Figure(PyObject <Figure size 640x480 with 1 Axes>)"
      ]
     },
     "metadata": {},
     "output_type": "display_data"
    }
   ],
   "source": [
    "# plot the fit model -\n",
    "Vc = pd[\"critical_volume\"]\n",
    "\n",
    "# setup the problem -\n",
    "working_fluid_model = buildSingleComponentWorkingFluid(pd)\n",
    "vdwEOS = buildVanDerWaalsEquationOfState(working_fluid_model)\n",
    "vdwEOS.a = pV[1]\n",
    "vdwEOS.b = pV[2]\n",
    "\n",
    "# setup the data -\n",
    "# get the PVT data -\n",
    "PcolName = Symbol(\"Pressure (MPa)\")\n",
    "VcolName = Symbol(\"Volume (l/mol)\")\n",
    "TcolName = Symbol(\"Temperature (K)\")\n",
    "P_data_array = df[!,PcolName]\n",
    "V_data_array = df[!,VcolName]\n",
    "T_data_array = df[!,TcolName]\n",
    "\n",
    "# compute the model pressure array -\n",
    "P_model_array = evaluate_model_pressure(vdwEOS, df)\n",
    "\n",
    "# plot -\n",
    "semilogx(V_data_array*(1/Vc),P_data_array,\"b\",lw=2,label=\"Methane data\")\n",
    "semilogx(V_data_array*(1/Vc),P_model_array,\"r--\",lw=2, label=\"Methane vDW\")\n",
    "xlabel(L\"Reduced Volume V$_{r}$\", fontsize=16)\n",
    "ylabel(\"Pressure (MPa)\", fontsize=16)\n",
    "legend(loc=\"upper right\")\n",
    "fig = gcf()\n",
    "ax = gca()\n",
    "ax.set_facecolor(\"#F5FCFF\")\n",
    "fig.set_facecolor(\"#F5FCFF\")"
   ]
  },
  {
   "cell_type": "code",
   "execution_count": 23,
   "metadata": {},
   "outputs": [
    {
     "data": {
      "text/plain": [
       "602-element Array{Float64,1}:\n",
       " 151.935612946865\n",
       " 151.87259210581374\n",
       " 151.80278582144018\n",
       " 151.7334035960613\n",
       " 151.66564235887324\n",
       " 151.5959169547521\n",
       " 151.52900793728577\n",
       " 151.4601435042542\n",
       " 151.38576527905718\n",
       " 151.32134232469676\n",
       " 151.25378768156702\n",
       " 151.17956122652603\n",
       " 151.10756836591685\n",
       "   ⋮\n",
       " 151.9847119720229\n",
       " 151.98714032657003\n",
       " 151.98956133185294\n",
       " 151.98591467205495\n",
       " 151.9883185045177\n",
       " 151.9846490898394\n",
       " 151.9870357459799\n",
       " 151.98334357116653\n",
       " 151.98571304748043\n",
       " 151.9880751697659\n",
       " 151.9843504002548\n",
       " 151.98669533780395"
      ]
     },
     "execution_count": 23,
     "metadata": {},
     "output_type": "execute_result"
    }
   ],
   "source": [
    "# lets try to predict T now that I have the paramerers -\n",
    "# compute the model pressure array -\n",
    "T_model_array = evaluate_model_temperature(vdwEOS, df)"
   ]
  },
  {
   "cell_type": "code",
   "execution_count": 45,
   "metadata": {},
   "outputs": [
    {
     "ename": "MethodError",
     "evalue": "MethodError: no method matching volume(::VanDerWaalsEquationOfState, ::Float64, ::Float64; V=0.1)\nClosest candidates are:\n  volume(::AbstractEquationOfState, ::Float64, ::Float64) at /Users/jeffreyvarner/.julia/packages/Thermodynamics/yr1qc/src/base/Compute.jl:359 got unsupported keyword argument \"V\"",
     "output_type": "error",
     "traceback": [
      "MethodError: no method matching volume(::VanDerWaalsEquationOfState, ::Float64, ::Float64; V=0.1)\nClosest candidates are:\n  volume(::AbstractEquationOfState, ::Float64, ::Float64) at /Users/jeffreyvarner/.julia/packages/Thermodynamics/yr1qc/src/base/Compute.jl:359 got unsupported keyword argument \"V\"",
      "",
      "Stacktrace:",
      " [1] top-level scope at In[45]:4"
     ]
    }
   ],
   "source": [
    "# ok, lets sample the volume -\n",
    "T_sat = 152.0\n",
    "P_sat = 1.1372 # MPa\n",
    "V = volume(vdwEOS,P_sat,T_sat; V=0.1)"
   ]
  },
  {
   "cell_type": "code",
   "execution_count": null,
   "metadata": {},
   "outputs": [],
   "source": []
  }
 ],
 "metadata": {
  "kernelspec": {
   "display_name": "Julia 1.4.2",
   "language": "julia",
   "name": "julia-1.4"
  },
  "language_info": {
   "file_extension": ".jl",
   "mimetype": "application/julia",
   "name": "julia",
   "version": "1.4.2"
  }
 },
 "nbformat": 4,
 "nbformat_minor": 4
}
