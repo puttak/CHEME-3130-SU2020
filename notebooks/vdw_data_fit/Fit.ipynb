{
 "cells": [
  {
   "cell_type": "markdown",
   "metadata": {},
   "source": [
    "### Example: Fit the van der Waals equation of state to Methane data "
   ]
  },
  {
   "cell_type": "code",
   "execution_count": 2,
   "metadata": {},
   "outputs": [],
   "source": [
    "# includes -\n",
    "include(\"./src/Include.jl\");"
   ]
  },
  {
   "cell_type": "code",
   "execution_count": 19,
   "metadata": {},
   "outputs": [],
   "source": [
    "# setup the problem -\n",
    "path_to_data_file = \"./Methane-NIST-210K.txt\";\n",
    "path_to_properties_file = \"./Properties.toml\";"
   ]
  },
  {
   "cell_type": "code",
   "execution_count": 20,
   "metadata": {},
   "outputs": [
    {
     "data": {
      "text/html": [
       "<table class=\"data-frame\"><thead><tr><th></th><th>Temperature (K)</th><th>Pressure (MPa)</th><th>Density (mol/l)</th><th>Volume (l/mol)</th><th>Internal Energy (kJ/mol)</th></tr><tr><th></th><th>Float64</th><th>Float64</th><th>Float64</th><th>Float64</th><th>Float64</th></tr></thead><tbody><p>603 rows × 14 columns (omitted printing of 9 columns)</p><tr><th>1</th><td>210.0</td><td>0.01</td><td>0.0057303</td><td>174.51</td><td>9.8283</td></tr><tr><th>2</th><td>210.0</td><td>0.048317</td><td>0.027745</td><td>36.043</td><td>9.821</td></tr><tr><th>3</th><td>210.0</td><td>0.086633</td><td>0.049852</td><td>20.059</td><td>9.8136</td></tr><tr><th>4</th><td>210.0</td><td>0.12495</td><td>0.072053</td><td>13.879</td><td>9.8062</td></tr><tr><th>5</th><td>210.0</td><td>0.16327</td><td>0.094348</td><td>10.599</td><td>9.7988</td></tr><tr><th>6</th><td>210.0</td><td>0.20158</td><td>0.11674</td><td>8.5662</td><td>9.7914</td></tr><tr><th>7</th><td>210.0</td><td>0.2399</td><td>0.13923</td><td>7.1826</td><td>9.7839</td></tr><tr><th>8</th><td>210.0</td><td>0.27822</td><td>0.16181</td><td>6.1801</td><td>9.7764</td></tr><tr><th>9</th><td>210.0</td><td>0.31653</td><td>0.18449</td><td>5.4203</td><td>9.7688</td></tr><tr><th>10</th><td>210.0</td><td>0.35485</td><td>0.20727</td><td>4.8245</td><td>9.7613</td></tr><tr><th>11</th><td>210.0</td><td>0.39317</td><td>0.23016</td><td>4.3449</td><td>9.7537</td></tr><tr><th>12</th><td>210.0</td><td>0.43148</td><td>0.25314</td><td>3.9504</td><td>9.7461</td></tr><tr><th>13</th><td>210.0</td><td>0.4698</td><td>0.27623</td><td>3.6202</td><td>9.7384</td></tr><tr><th>14</th><td>210.0</td><td>0.50812</td><td>0.29941</td><td>3.3398</td><td>9.7307</td></tr><tr><th>15</th><td>210.0</td><td>0.54643</td><td>0.32271</td><td>3.0988</td><td>9.723</td></tr><tr><th>16</th><td>210.0</td><td>0.58475</td><td>0.34611</td><td>2.8893</td><td>9.7153</td></tr><tr><th>17</th><td>210.0</td><td>0.62307</td><td>0.36962</td><td>2.7055</td><td>9.7075</td></tr><tr><th>18</th><td>210.0</td><td>0.66138</td><td>0.39323</td><td>2.543</td><td>9.6997</td></tr><tr><th>19</th><td>210.0</td><td>0.6997</td><td>0.41696</td><td>2.3983</td><td>9.6918</td></tr><tr><th>20</th><td>210.0</td><td>0.73802</td><td>0.44079</td><td>2.2686</td><td>9.6839</td></tr><tr><th>21</th><td>210.0</td><td>0.77633</td><td>0.46474</td><td>2.1517</td><td>9.676</td></tr><tr><th>22</th><td>210.0</td><td>0.81465</td><td>0.4888</td><td>2.0458</td><td>9.6681</td></tr><tr><th>23</th><td>210.0</td><td>0.85297</td><td>0.51297</td><td>1.9494</td><td>9.6601</td></tr><tr><th>24</th><td>210.0</td><td>0.89128</td><td>0.53726</td><td>1.8613</td><td>9.6521</td></tr><tr><th>25</th><td>210.0</td><td>0.9296</td><td>0.56167</td><td>1.7804</td><td>9.644</td></tr><tr><th>26</th><td>210.0</td><td>0.96792</td><td>0.5862</td><td>1.7059</td><td>9.6359</td></tr><tr><th>27</th><td>210.0</td><td>1.0062</td><td>0.61084</td><td>1.6371</td><td>9.6278</td></tr><tr><th>28</th><td>210.0</td><td>1.0446</td><td>0.63561</td><td>1.5733</td><td>9.6197</td></tr><tr><th>29</th><td>210.0</td><td>1.0829</td><td>0.66049</td><td>1.514</td><td>9.6115</td></tr><tr><th>30</th><td>210.0</td><td>1.1212</td><td>0.68551</td><td>1.4588</td><td>9.6032</td></tr><tr><th>&vellip;</th><td>&vellip;</td><td>&vellip;</td><td>&vellip;</td><td>&vellip;</td><td>&vellip;</td></tr></tbody></table>"
      ],
      "text/latex": [
       "\\begin{tabular}{r|cccccc}\n",
       "\t& Temperature (K) & Pressure (MPa) & Density (mol/l) & Volume (l/mol) & Internal Energy (kJ/mol) & \\\\\n",
       "\t\\hline\n",
       "\t& Float64 & Float64 & Float64 & Float64 & Float64 & \\\\\n",
       "\t\\hline\n",
       "\t1 & 210.0 & 0.01 & 0.0057303 & 174.51 & 9.8283 & $\\dots$ \\\\\n",
       "\t2 & 210.0 & 0.048317 & 0.027745 & 36.043 & 9.821 & $\\dots$ \\\\\n",
       "\t3 & 210.0 & 0.086633 & 0.049852 & 20.059 & 9.8136 & $\\dots$ \\\\\n",
       "\t4 & 210.0 & 0.12495 & 0.072053 & 13.879 & 9.8062 & $\\dots$ \\\\\n",
       "\t5 & 210.0 & 0.16327 & 0.094348 & 10.599 & 9.7988 & $\\dots$ \\\\\n",
       "\t6 & 210.0 & 0.20158 & 0.11674 & 8.5662 & 9.7914 & $\\dots$ \\\\\n",
       "\t7 & 210.0 & 0.2399 & 0.13923 & 7.1826 & 9.7839 & $\\dots$ \\\\\n",
       "\t8 & 210.0 & 0.27822 & 0.16181 & 6.1801 & 9.7764 & $\\dots$ \\\\\n",
       "\t9 & 210.0 & 0.31653 & 0.18449 & 5.4203 & 9.7688 & $\\dots$ \\\\\n",
       "\t10 & 210.0 & 0.35485 & 0.20727 & 4.8245 & 9.7613 & $\\dots$ \\\\\n",
       "\t11 & 210.0 & 0.39317 & 0.23016 & 4.3449 & 9.7537 & $\\dots$ \\\\\n",
       "\t12 & 210.0 & 0.43148 & 0.25314 & 3.9504 & 9.7461 & $\\dots$ \\\\\n",
       "\t13 & 210.0 & 0.4698 & 0.27623 & 3.6202 & 9.7384 & $\\dots$ \\\\\n",
       "\t14 & 210.0 & 0.50812 & 0.29941 & 3.3398 & 9.7307 & $\\dots$ \\\\\n",
       "\t15 & 210.0 & 0.54643 & 0.32271 & 3.0988 & 9.723 & $\\dots$ \\\\\n",
       "\t16 & 210.0 & 0.58475 & 0.34611 & 2.8893 & 9.7153 & $\\dots$ \\\\\n",
       "\t17 & 210.0 & 0.62307 & 0.36962 & 2.7055 & 9.7075 & $\\dots$ \\\\\n",
       "\t18 & 210.0 & 0.66138 & 0.39323 & 2.543 & 9.6997 & $\\dots$ \\\\\n",
       "\t19 & 210.0 & 0.6997 & 0.41696 & 2.3983 & 9.6918 & $\\dots$ \\\\\n",
       "\t20 & 210.0 & 0.73802 & 0.44079 & 2.2686 & 9.6839 & $\\dots$ \\\\\n",
       "\t21 & 210.0 & 0.77633 & 0.46474 & 2.1517 & 9.676 & $\\dots$ \\\\\n",
       "\t22 & 210.0 & 0.81465 & 0.4888 & 2.0458 & 9.6681 & $\\dots$ \\\\\n",
       "\t23 & 210.0 & 0.85297 & 0.51297 & 1.9494 & 9.6601 & $\\dots$ \\\\\n",
       "\t24 & 210.0 & 0.89128 & 0.53726 & 1.8613 & 9.6521 & $\\dots$ \\\\\n",
       "\t25 & 210.0 & 0.9296 & 0.56167 & 1.7804 & 9.644 & $\\dots$ \\\\\n",
       "\t26 & 210.0 & 0.96792 & 0.5862 & 1.7059 & 9.6359 & $\\dots$ \\\\\n",
       "\t27 & 210.0 & 1.0062 & 0.61084 & 1.6371 & 9.6278 & $\\dots$ \\\\\n",
       "\t28 & 210.0 & 1.0446 & 0.63561 & 1.5733 & 9.6197 & $\\dots$ \\\\\n",
       "\t29 & 210.0 & 1.0829 & 0.66049 & 1.514 & 9.6115 & $\\dots$ \\\\\n",
       "\t30 & 210.0 & 1.1212 & 0.68551 & 1.4588 & 9.6032 & $\\dots$ \\\\\n",
       "\t$\\dots$ & $\\dots$ & $\\dots$ & $\\dots$ & $\\dots$ & $\\dots$ &  \\\\\n",
       "\\end{tabular}\n"
      ],
      "text/plain": [
       "603×14 DataFrame. Omitted printing of 10 columns\n",
       "│ Row │ Temperature (K) │ Pressure (MPa) │ Density (mol/l) │ Volume (l/mol) │\n",
       "│     │ \u001b[90mFloat64\u001b[39m         │ \u001b[90mFloat64\u001b[39m        │ \u001b[90mFloat64\u001b[39m         │ \u001b[90mFloat64\u001b[39m        │\n",
       "├─────┼─────────────────┼────────────────┼─────────────────┼────────────────┤\n",
       "│ 1   │ 210.0           │ 0.01           │ 0.0057303       │ 174.51         │\n",
       "│ 2   │ 210.0           │ 0.048317       │ 0.027745        │ 36.043         │\n",
       "│ 3   │ 210.0           │ 0.086633       │ 0.049852        │ 20.059         │\n",
       "│ 4   │ 210.0           │ 0.12495        │ 0.072053        │ 13.879         │\n",
       "│ 5   │ 210.0           │ 0.16327        │ 0.094348        │ 10.599         │\n",
       "│ 6   │ 210.0           │ 0.20158        │ 0.11674         │ 8.5662         │\n",
       "│ 7   │ 210.0           │ 0.2399         │ 0.13923         │ 7.1826         │\n",
       "│ 8   │ 210.0           │ 0.27822        │ 0.16181         │ 6.1801         │\n",
       "│ 9   │ 210.0           │ 0.31653        │ 0.18449         │ 5.4203         │\n",
       "│ 10  │ 210.0           │ 0.35485        │ 0.20727         │ 4.8245         │\n",
       "⋮\n",
       "│ 593 │ 210.0           │ 22.617         │ 19.025          │ 0.052563       │\n",
       "│ 594 │ 210.0           │ 22.655         │ 19.032          │ 0.052543       │\n",
       "│ 595 │ 210.0           │ 22.693         │ 19.039          │ 0.052523       │\n",
       "│ 596 │ 210.0           │ 22.732         │ 19.047          │ 0.052502       │\n",
       "│ 597 │ 210.0           │ 22.77          │ 19.054          │ 0.052482       │\n",
       "│ 598 │ 210.0           │ 22.808         │ 19.061          │ 0.052462       │\n",
       "│ 599 │ 210.0           │ 22.847         │ 19.069          │ 0.052442       │\n",
       "│ 600 │ 210.0           │ 22.885         │ 19.076          │ 0.052423       │\n",
       "│ 601 │ 210.0           │ 22.923         │ 19.083          │ 0.052403       │\n",
       "│ 602 │ 210.0           │ 22.962         │ 19.09           │ 0.052383       │\n",
       "│ 603 │ 210.0           │ 23.0           │ 19.097          │ 0.052363       │"
      ]
     },
     "execution_count": 20,
     "metadata": {},
     "output_type": "execute_result"
    }
   ],
   "source": [
    "# What is the data?\n",
    "df = load_data_table(path_to_data_file)"
   ]
  },
  {
   "cell_type": "code",
   "execution_count": 26,
   "metadata": {},
   "outputs": [
    {
     "data": {
      "text/plain": [
       "2-element Array{Float64,1}:\n",
       " 0.18188620111580509\n",
       " 0.03286012707941142"
      ]
     },
     "execution_count": 26,
     "metadata": {},
     "output_type": "execute_result"
    }
   ],
   "source": [
    "# fit model parameters -\n",
    "pV = fit_model(path_to_data_file, path_to_properties_file)"
   ]
  },
  {
   "cell_type": "code",
   "execution_count": 22,
   "metadata": {},
   "outputs": [
    {
     "data": {
      "text/plain": [
       "2-element Array{Float64,1}:\n",
       " 0.230428514993304\n",
       " 0.04309664581066377"
      ]
     },
     "execution_count": 22,
     "metadata": {},
     "output_type": "execute_result"
    }
   ],
   "source": [
    "# Sanity check - what are the parameters if we use the critical point?\n",
    "pd = load_material_properties(path_to_properties_file)[\"methane\"]\n",
    "working_fluid_model = buildSingleComponentWorkingFluid(pd)\n",
    "vdwEOS = buildVanDerWaalsEquationOfState(working_fluid_model)\n",
    "pV_ip = [vdwEOS.a ; vdwEOS.b]"
   ]
  },
  {
   "cell_type": "code",
   "execution_count": 27,
   "metadata": {},
   "outputs": [
    {
     "data": {
      "image/png": "[encoded data removed]",
      "text/plain": [
       "Figure(PyObject <Figure size 640x480 with 1 Axes>)"
      ]
     },
     "metadata": {},
     "output_type": "display_data"
    }
   ],
   "source": [
    "# plot the fit model -\n",
    "Vc = pd[\"critical_volume\"]\n",
    "\n",
    "# setup the problem -\n",
    "working_fluid_model = buildSingleComponentWorkingFluid(pd)\n",
    "vdwEOS = buildVanDerWaalsEquationOfState(working_fluid_model)\n",
    "vdwEOS.a = pV[1]\n",
    "vdwEOS.b = pV[2]\n",
    "\n",
    "# setup the data -\n",
    "# get the PVT data -\n",
    "PcolName = Symbol(\"Pressure (MPa)\")\n",
    "VcolName = Symbol(\"Volume (l/mol)\")\n",
    "TcolName = Symbol(\"Temperature (K)\")\n",
    "P_data_array = df[!,PcolName]\n",
    "V_data_array = df[!,VcolName]\n",
    "T_data_array = df[!,TcolName]\n",
    "\n",
    "# compute the model pressure array -\n",
    "P_model_array = evaluate_model_pressure(vdwEOS, df)\n",
    "\n",
    "# plot -\n",
    "semilogx(V_data_array*(1/Vc),P_data_array,\"b\",lw=2,label=\"Methane data\")\n",
    "semilogx(V_data_array*(1/Vc),P_model_array,\"r--\",lw=2, label=\"Methane vDW\")\n",
    "xlabel(L\"Reduced Volume V$_{r}$\", fontsize=16)\n",
    "ylabel(\"Pressure (MPa)\", fontsize=16)\n",
    "legend(loc=\"upper right\")\n",
    "fig = gcf()\n",
    "ax = gca()\n",
    "ax.set_facecolor(\"#F5FCFF\")\n",
    "fig.set_facecolor(\"#F5FCFF\")"
   ]
  },
  {
   "cell_type": "code",
   "execution_count": 11,
   "metadata": {},
   "outputs": [
    {
     "data": {
      "text/plain": [
       "602-element Array{Float64,1}:\n",
       " 151.935612946865\n",
       " 151.87259210581374\n",
       " 151.80278582144018\n",
       " 151.7334035960613\n",
       " 151.66564235887324\n",
       " 151.5959169547521\n",
       " 151.52900793728577\n",
       " 151.4601435042542\n",
       " 151.38576527905718\n",
       " 151.32134232469676\n",
       " 151.25378768156702\n",
       " 151.17956122652603\n",
       " 151.10756836591682\n",
       "   ⋮\n",
       " 151.9847119720228\n",
       " 151.98714032656994\n",
       " 151.98956133185288\n",
       " 151.9859146720549\n",
       " 151.98831850451765\n",
       " 151.98464908983928\n",
       " 151.98703574597982\n",
       " 151.98334357116644\n",
       " 151.98571304748037\n",
       " 151.9880751697658\n",
       " 151.9843504002547\n",
       " 151.98669533780387"
      ]
     },
     "execution_count": 11,
     "metadata": {},
     "output_type": "execute_result"
    }
   ],
   "source": [
    "# lets try to predict T now that I have the paramerers -\n",
    "# compute the model pressure array -\n",
    "T_model_array = evaluate_model_temperature(vdwEOS, df)"
   ]
  },
  {
   "cell_type": "markdown",
   "metadata": {},
   "source": [
    "Description of the approach: https://en.wikipedia.org/wiki/Broyden–Fletcher–Goldfarb–Shanno_algorithm"
   ]
  },
  {
   "cell_type": "code",
   "execution_count": 29,
   "metadata": {},
   "outputs": [
    {
     "data": {
      "text/plain": [
       "0.049885583173370454"
      ]
     },
     "execution_count": 29,
     "metadata": {},
     "output_type": "execute_result"
    }
   ],
   "source": [
    "# pathology -\n",
    "# ok, lets sample the volume -\n",
    "T_sat = 152.0\n",
    "P_sat = 1.1372 # MPa\n",
    "V = volume(vdwEOS,P_sat,T_sat; V=0.06)"
   ]
  },
  {
   "cell_type": "code",
   "execution_count": null,
   "metadata": {},
   "outputs": [],
   "source": []
  }
 ],
 "metadata": {
  "kernelspec": {
   "display_name": "Julia 1.4.2",
   "language": "julia",
   "name": "julia-1.4"
  },
  "language_info": {
   "file_extension": ".jl",
   "mimetype": "application/julia",
   "name": "julia",
   "version": "1.4.2"
  }
 },
 "nbformat": 4,
 "nbformat_minor": 4
}
