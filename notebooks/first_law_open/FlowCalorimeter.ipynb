{
 "cells": [
  {
   "cell_type": "markdown",
   "metadata": {},
   "source": [
    "<img src=\"./figs/Setup.pdf\">\n",
    "\n",
    "### Example\n",
    "Consider a _steady-state_ two stage flow calorimeter with a resistance heating element in stage 1 (inlet) connected with a measurement unit in stage 2 (outlet). Let stream 1 denote the inlet, and stream 2 denote the outlet. Liquid water enters the heater stage (inlet) at T$_1$ = 25$^{\\circ}$C and exits the measurement unit (as a vapor) at T$_2$ = 300$^{\\circ}$C. \n",
    "\n",
    "The following data were taken from the inlet and outlet of the calorimeter: $\\dot{m}_1$ = 4.15 g s$^{-1}$ and P$_{2}$ = 3 bar. The liquid water is completely vaporized in this process. Calculate the rate of heating $\\dot{Q}$ in stage 1, in units of kW.\n",
    "\n",
    "__Assume:__ i) no shaft work, ii) *insulated* pipes and process units, iii) negligible pressure drop in pipes, and iv) negligible changes in kinetic and potential energy in system and streams"
   ]
  },
  {
   "cell_type": "markdown",
   "metadata": {},
   "source": [
    "### Approach\n",
    "\n",
    "Starting from the steady-state open first law equation:\n",
    "\\begin{equation}\n",
    "\t\\dot{Q}+\\dot{W}_{sh} + \\sum_{s=1}^{\\mathcal{S}}\\nu_{s}H_{s}\\dot{m}_{s}  =  0\n",
    "\\end{equation}we can begin throwing out terms. "
   ]
  },
  {
   "cell_type": "markdown",
   "metadata": {},
   "source": [
    "First, $\\dot{W}_{sh}$ = 0 (from the problem statement, assumption 1).\n",
    "Next, $\\mathcal{S}$ = 2 with $\\nu_{1}$ = 1 and $\\nu_{2}$ = -1 from the process description.\n",
    "Thus, the open first law equation for this problem is given by:\n",
    "\n",
    "\\begin{equation}\n",
    "\t\\dot{Q}+H_{1}\\dot{m}_{1}-H_{2}\\dot{m}_{2} = 0\n",
    "\\end{equation}"
   ]
  },
  {
   "cell_type": "markdown",
   "metadata": {},
   "source": [
    "We also know the calorimeter unit is at steady-state, which implies $\\dot{m}_{1}=\\dot{m}_{2}\\equiv\\dot{m}$, or:\n",
    "\n",
    "\\begin{equation}\n",
    "\t\\dot{Q} = \\dot{m}\\left(H_{2} - H_{1}\\right)\n",
    "\\end{equation}"
   ]
  },
  {
   "cell_type": "markdown",
   "metadata": {},
   "source": [
    "### Solution"
   ]
  },
  {
   "cell_type": "code",
   "execution_count": 9,
   "metadata": {},
   "outputs": [
    {
     "data": {
      "text/html": [
       "<table class=\"data-frame\"><thead><tr><th></th><th>Temperature (C)</th><th>Pressure (MPa)</th><th>Density (mol/l)</th><th>Volume (l/mol)</th><th>Internal Energy (kJ/kg)</th><th>Enthalpy (kJ/kg)</th><th>Entropy (J/g*K)</th><th>Cv (J/g*K)</th><th>Cp (J/g*K)</th><th>Sound Spd. (m/s)</th><th>Joule-Thomson (K/MPa)</th><th>Viscosity (uPa*s)</th><th>Therm. Cond. (W/m*K)</th><th>Phase</th></tr></thead><tbody><tr><th>1</th><td>25.0</td><td>0.3</td><td>55.35</td><td>0.018067</td><td>104.8</td><td>105.1</td><td>0.36715</td><td>4.1369</td><td>4.1807</td><td>1497.0</td><td>-0.22146</td><td>890.04</td><td>0.60728</td><td>liquid</td></tr><tr><th>2</th><td>50.0</td><td>0.3</td><td>54.849</td><td>0.018232</td><td>209.29</td><td>209.59</td><td>0.70368</td><td>4.0257</td><td>4.1809</td><td>1542.9</td><td>-0.20625</td><td>546.88</td><td>0.64369</td><td>liquid</td></tr><tr><th>3</th><td>75.0</td><td>0.3</td><td>54.117</td><td>0.018479</td><td>313.93</td><td>314.24</td><td>1.0156</td><td>3.8986</td><td>4.1928</td><td>1555.5</td><td>-0.19245</td><td>377.79</td><td>0.66689</td><td>liquid</td></tr><tr><th>4</th><td>100.0</td><td>0.3</td><td>53.202</td><td>0.018796</td><td>419.0</td><td>419.32</td><td>1.3071</td><td>3.7679</td><td>4.2152</td><td>1543.6</td><td>-0.17822</td><td>281.8</td><td>0.6792</td><td>liquid</td></tr><tr><th>5</th><td>125.0</td><td>0.3</td><td>52.126</td><td>0.019184</td><td>524.8</td><td>525.12</td><td>1.5815</td><td>3.6414</td><td>4.252</td><td>1512.6</td><td>-0.16223</td><td>222.1</td><td>0.6836</td><td>liquid</td></tr><tr><th>6</th><td>133.52</td><td>0.3</td><td>51.724</td><td>0.019333</td><td>561.1</td><td>561.43</td><td>1.6717</td><td>3.6001</td><td>4.2686</td><td>1498.2</td><td>-0.15614</td><td>206.85</td><td>0.68366</td><td>liquid</td></tr><tr><th>7</th><td>133.52</td><td>0.3</td><td>0.091634</td><td>10.913</td><td>2543.2</td><td>2724.9</td><td>6.9916</td><td>1.6711</td><td>2.263</td><td>487.37</td><td>45.919</td><td>13.423</td><td>0.02924</td><td>vapor</td></tr><tr><th>8</th><td>150.0</td><td>0.3</td><td>0.087551</td><td>11.422</td><td>2571.0</td><td>2761.2</td><td>7.0791</td><td>1.6026</td><td>2.159</td><td>499.14</td><td>37.679</td><td>14.082</td><td>0.030259</td><td>vapor</td></tr><tr><th>9</th><td>175.0</td><td>0.3</td><td>0.082154</td><td>12.172</td><td>2611.5</td><td>2814.2</td><td>7.2008</td><td>1.5608</td><td>2.0882</td><td>515.32</td><td>29.545</td><td>15.093</td><td>0.032058</td><td>vapor</td></tr><tr><th>10</th><td>200.0</td><td>0.3</td><td>0.07748</td><td>12.907</td><td>2651.0</td><td>2865.9</td><td>7.3131</td><td>1.5436</td><td>2.0537</td><td>530.39</td><td>23.863</td><td>16.114</td><td>0.034091</td><td>vapor</td></tr><tr><th>11</th><td>225.0</td><td>0.3</td><td>0.073363</td><td>13.631</td><td>2690.0</td><td>2917.0</td><td>7.4184</td><td>1.539</td><td>2.0377</td><td>544.66</td><td>19.708</td><td>17.144</td><td>0.036308</td><td>vapor</td></tr><tr><th>12</th><td>250.0</td><td>0.3</td><td>0.069695</td><td>14.348</td><td>2728.9</td><td>2967.9</td><td>7.518</td><td>1.5415</td><td>2.0324</td><td>558.3</td><td>16.577</td><td>18.181</td><td>0.038672</td><td>vapor</td></tr><tr><th>13</th><td>275.0</td><td>0.3</td><td>0.066398</td><td>15.061</td><td>2767.9</td><td>3018.7</td><td>7.6129</td><td>1.5483</td><td>2.0336</td><td>571.43</td><td>14.154</td><td>19.222</td><td>0.04116</td><td>vapor</td></tr><tr><th>14</th><td>300.0</td><td>0.3</td><td>0.063413</td><td>15.77</td><td>2807.0</td><td>3069.6</td><td>7.7037</td><td>1.558</td><td>2.0391</td><td>584.11</td><td>12.234</td><td>20.266</td><td>0.043754</td><td>vapor</td></tr></tbody></table>"
      ],
      "text/plain": [
       "14×14 DataFrame. Omitted printing of 10 columns\n",
       "│ Row │ Temperature (C) │ Pressure (MPa) │ Density (mol/l) │ Volume (l/mol) │\n",
       "├─────┼─────────────────┼────────────────┼─────────────────┼────────────────┤\n",
       "│ 1   │ 25.0            │ 0.3            │ 55.35           │ 0.018067       │\n",
       "│ 2   │ 50.0            │ 0.3            │ 54.849          │ 0.018232       │\n",
       "│ 3   │ 75.0            │ 0.3            │ 54.117          │ 0.018479       │\n",
       "│ 4   │ 100.0           │ 0.3            │ 53.202          │ 0.018796       │\n",
       "│ 5   │ 125.0           │ 0.3            │ 52.126          │ 0.019184       │\n",
       "│ 6   │ 133.52          │ 0.3            │ 51.724          │ 0.019333       │\n",
       "│ 7   │ 133.52          │ 0.3            │ 0.091634        │ 10.913         │\n",
       "│ 8   │ 150.0           │ 0.3            │ 0.087551        │ 11.422         │\n",
       "│ 9   │ 175.0           │ 0.3            │ 0.082154        │ 12.172         │\n",
       "│ 10  │ 200.0           │ 0.3            │ 0.07748         │ 12.907         │\n",
       "│ 11  │ 225.0           │ 0.3            │ 0.073363        │ 13.631         │\n",
       "│ 12  │ 250.0           │ 0.3            │ 0.069695        │ 14.348         │\n",
       "│ 13  │ 275.0           │ 0.3            │ 0.066398        │ 15.061         │\n",
       "│ 14  │ 300.0           │ 0.3            │ 0.063413        │ 15.77          │"
      ]
     },
     "execution_count": 9,
     "metadata": {},
     "output_type": "execute_result"
    }
   ],
   "source": [
    "# include some stuff from Julia -\n",
    "using DataFrames\n",
    "using CSV\n",
    "\n",
    "# How do we find H1 and H2 (specific enthalpy at the inlet and outlet)?\n",
    "# We *could* use the steam tables, but the inlet is *subsaturated* (to the left of the saturation dome), lets use DATA from NIST\n",
    "\n",
    "# instead lets use NIST -\n",
    "water_data_table = CSV.read(\"Water-NIST.txt\",delim='\\t')"
   ]
  },
  {
   "cell_type": "code",
   "execution_count": 4,
   "metadata": {},
   "outputs": [
    {
     "data": {
      "text/plain": [
       "12.302675"
      ]
     },
     "execution_count": 4,
     "metadata": {},
     "output_type": "execute_result"
    }
   ],
   "source": [
    "# Setup some constants for the problem -\n",
    "mdot = (4.15)*(1/1000) # units: kg s^-1\n",
    "\n",
    "\n",
    "# Get H values from the water_data_table -\n",
    "H1 = 105.1   # units: kJ/kg\n",
    "H2 = 3069.6  # units: kJ/kg\n",
    "\n",
    "# Compute Qdot - (kJ/s) or kW\n",
    "Qdot = mdot*(H2 - H1)"
   ]
  },
  {
   "cell_type": "code",
   "execution_count": null,
   "metadata": {},
   "outputs": [],
   "source": []
  }
 ],
 "metadata": {
  "kernelspec": {
   "display_name": "Julia 1.4.2",
   "language": "julia",
   "name": "julia-1.4"
  },
  "language_info": {
   "file_extension": ".jl",
   "mimetype": "application/julia",
   "name": "julia",
   "version": "1.4.2"
  }
 },
 "nbformat": 4,
 "nbformat_minor": 4
}
