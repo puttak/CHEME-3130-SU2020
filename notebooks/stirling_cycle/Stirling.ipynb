{
 "cells": [
  {
   "cell_type": "markdown",
   "metadata": {},
   "source": [
    "<img src=\"./figs/Stirling.pdf\">\n",
    "\n",
    "### Estimate the state and path tables for the Stirling Cycle\n",
    "The Stirling cycle is a thermodynamic cycle invented, developed and patented in 1816 (eight years before Carnot)\n",
    "by Robert Stirling. The [Stirling cycle](https://en.wikipedia.org/wiki/Stirling_cycle) has four steps:\n",
    "\n",
    " * 1 &rarr; 2: isothermal expansion from state 1 to state 2 along the $T_{H}$ isotherm\n",
    " * 2 &rarr; 3: isochoric (constant volume) transformation from state 2 to state 3\n",
    " * 3 &rarr; 4: isothermal compression from state 3 to state 4 along the $T_{L}$ isotherm\n",
    " * 4 &rarr; 1: isochoric (constant volume) transformation from state 4 to state 1\n",
    "\n",
    "__Assume:__\n",
    "(i) all transformations are reversible, and 1 mol of an ideal gas is used as the working fluid;\n",
    "(ii) the heat capacity for the working fluid is C$_P$ = 29 J mol$^{-1}$ K$^{-1}$ and R = 8.314 J mol$^{-1}$ K$^{-1}$ or $\\hat{\\mathrm{R}}$ = 0.08314 bar L mol$^{-1}$ K$^{-1}$.\n",
    "\n",
    "\n",
    "a) Complete the state and path tables by calculating the missing state, Q,W, $\\Delta$U, $\\Delta$H and $\\Delta$S values for the cycle.\n",
    "\n",
    "b) Sketch the Stirling cycle on a T-S diagram (label all operating points and transformation directions).\n",
    "\n",
    "c) Estimate the efficiency of the Stirling cycle $\\eta_{S}=-W_{net}/Q_{1~\\rightarrow~2}$. Is the Stirling cycle more, approximately the same, or less efficient than the Carnot cycle operating at the same minimum and maximum temperatures?"
   ]
  },
  {
   "cell_type": "markdown",
   "metadata": {},
   "source": [
    "#### Estimate the missing values in the state table\n",
    "Start with the state table, find all values that you don't need to compute (because of the cycle, and what was given in the problem); we know that V$_{2}$ = V$_{3}$, V$_{4}$ = V$_{1}$, T$_{1}$ = T$_{2}$ and T$_{3}$ = T$_{4}$. This will leave estimating missing values using the IGL equation of state. "
   ]
  },
  {
   "cell_type": "code",
   "execution_count": 13,
   "metadata": {},
   "outputs": [],
   "source": [
    "# include -\n",
    "include(\"./src/solution.jl\");"
   ]
  },
  {
   "cell_type": "code",
   "execution_count": 5,
   "metadata": {},
   "outputs": [
    {
     "data": {
      "text/html": [
       "<table class=\"data-frame\"><thead><tr><th></th><th>State</th><th>T</th><th>P</th><th>V</th></tr><tr><th></th><th>Int64</th><th>Int64</th><th>Float64</th><th>Float64</th></tr></thead><tbody><p>4 rows × 4 columns</p><tr><th>1</th><td>1</td><td>300</td><td>3.0</td><td>8.314</td></tr><tr><th>2</th><td>2</td><td>300</td><td>0.75</td><td>33.256</td></tr><tr><th>3</th><td>3</td><td>100</td><td>0.25</td><td>33.256</td></tr><tr><th>4</th><td>4</td><td>100</td><td>1.0</td><td>8.314</td></tr></tbody></table>"
      ],
      "text/latex": [
       "\\begin{tabular}{r|cccc}\n",
       "\t& State & T & P & V\\\\\n",
       "\t\\hline\n",
       "\t& Int64 & Int64 & Float64 & Float64\\\\\n",
       "\t\\hline\n",
       "\t1 & 1 & 300 & 3.0 & 8.314 \\\\\n",
       "\t2 & 2 & 300 & 0.75 & 33.256 \\\\\n",
       "\t3 & 3 & 100 & 0.25 & 33.256 \\\\\n",
       "\t4 & 4 & 100 & 1.0 & 8.314 \\\\\n",
       "\\end{tabular}\n"
      ],
      "text/plain": [
       "4×4 DataFrame\n",
       "│ Row │ State │ T     │ P       │ V       │\n",
       "│     │ \u001b[90mInt64\u001b[39m │ \u001b[90mInt64\u001b[39m │ \u001b[90mFloat64\u001b[39m │ \u001b[90mFloat64\u001b[39m │\n",
       "├─────┼───────┼───────┼─────────┼─────────┤\n",
       "│ 1   │ 1     │ 300   │ 3.0     │ 8.314   │\n",
       "│ 2   │ 2     │ 300   │ 0.75    │ 33.256  │\n",
       "│ 3   │ 3     │ 100   │ 0.25    │ 33.256  │\n",
       "│ 4   │ 4     │ 100   │ 1.0     │ 8.314   │"
      ]
     },
     "execution_count": 5,
     "metadata": {},
     "output_type": "execute_result"
    }
   ],
   "source": [
    "# load my state table -\n",
    "path_to_state_table_file = \"./src/data/State.csv\"\n",
    "stateTable = load_state_table(path_to_state_table_file)"
   ]
  },
  {
   "cell_type": "markdown",
   "metadata": {},
   "source": [
    "#### Estimate the missing values in the path table\n",
    "Once the state table is done, you can fill in the missing values in the path table. \n",
    "Again, start by filling in values that you don't need to do any computation e.g., constant volume = no work, or isothermal = no change in internal energy for an ideal gas. \n",
    "Next, start with $\\Delta{U}$, $\\Delta{H}$ and $\\Delta{S}$. To compute $\\Delta{U}$ on $\\mathcal{P}_{ij}$:\n",
    "\n",
    "\\begin{equation}\n",
    "\\Delta{U}_{ij} = C_{V}\\Delta{T}_{ji}\n",
    "\\end{equation} \n",
    "\n",
    "while for $\\Delta{H}$ you can use:\n",
    "\n",
    "\\begin{equation}\n",
    "\\Delta{H}_{ij} = C_{P}\\Delta{T}_{ji}\n",
    "\\end{equation}"
   ]
  },
  {
   "cell_type": "markdown",
   "metadata": {},
   "source": [
    "To compute the entropy change, we can start from the (T,V,S) form of the first law:\n",
    "\n",
    "\\begin{equation}\n",
    "TdS = C_{V}dT+\\left[\\left(\\frac{\\partial{U}}{\\partial{V}}\\right)_{T}+P\\right]dV\n",
    "\\end{equation}\n",
    "\n",
    "Dividing through by T, substituting the IGL equation of state for P, and removing terms that are zero for an ideal gas gives (after integration) for path i to j:\n",
    "\n",
    "\\begin{equation}\n",
    "\\Delta{S}_{ij} = C_{V}\\ln\\left(T_{j}/T_{i}\\right)+\\hat{R}\\ln\\left(V_{j}/V_{i}\\right)\n",
    "\\end{equation}\n",
    "\n",
    "For an isothermal path, the general entropy equation reduces to:\n",
    "\n",
    "\\begin{equation}\n",
    "\\Delta{S}_{ij} = \\hat{R}\\ln\\left(V_{j}/V_{i}\\right)\n",
    "\\end{equation} \n",
    "\n",
    "while for constant volume paths, we can use:\n",
    "\n",
    "\\begin{equation}\n",
    "\\Delta{S}_{ij} = C_{V}\\ln\\left(T_{j}/T_{i}\\right)\n",
    "\\end{equation}"
   ]
  },
  {
   "cell_type": "markdown",
   "metadata": {},
   "source": [
    "Lastly, you can compute the heat and work either using the heat capacity for heat, or by the work expression:\n",
    "\n",
    "\\begin{equation}\n",
    "W_{ij} = -\\int_{V_{i}}^{V_{j}}PdV\n",
    "\\end{equation}\n",
    "\n",
    "where you substitute the IGL equation of state into the integral to arrive at:\n",
    "\n",
    "\\begin{equation}\n",
    "W_{ij} = -\\hat{R}T\\ln\\left(V_{j}/V_{i}\\right)\n",
    "\\end{equation} for the isothermal paths. Remember that $\\Delta{U}$ = Q+W."
   ]
  },
  {
   "cell_type": "code",
   "execution_count": 6,
   "metadata": {},
   "outputs": [
    {
     "data": {
      "text/plain": [
       "Dict{String,Any} with 4 entries:\n",
       "  \"Rhat\" => 0.8314\n",
       "  \"Cv\"   => 20.686\n",
       "  \"R\"    => 8.314\n",
       "  \"Cp\"   => 29.0"
      ]
     },
     "execution_count": 6,
     "metadata": {},
     "output_type": "execute_result"
    }
   ],
   "source": [
    "# load some constants -\n",
    "path_to_constants_file = \"./src/data/Constants.json\"\n",
    "cd = load_constants_dictionary(path_to_constants_file)"
   ]
  },
  {
   "cell_type": "code",
   "execution_count": 7,
   "metadata": {},
   "outputs": [
    {
     "data": {
      "text/html": [
       "<table class=\"data-frame\"><thead><tr><th></th><th>path</th><th>Q</th><th>W</th><th>delta_U</th><th>delta_H</th><th>delta_S</th></tr><tr><th></th><th>String</th><th>Float64</th><th>Float64</th><th>Float64</th><th>Float64</th><th>Float64</th></tr></thead><tbody><p>5 rows × 6 columns</p><tr><th>1</th><td>1 -&gt; 2</td><td>345.77</td><td>-345.77</td><td>0.0</td><td>0.0</td><td>1.15257</td></tr><tr><th>2</th><td>2 -&gt; 3</td><td>-4137.2</td><td>0.0</td><td>-4137.2</td><td>-5800.0</td><td>-22.7259</td></tr><tr><th>3</th><td>3 -&gt; 4</td><td>-115.257</td><td>115.257</td><td>0.0</td><td>0.0</td><td>-1.15257</td></tr><tr><th>4</th><td>4 -&gt; 1</td><td>4137.2</td><td>0.0</td><td>4137.2</td><td>5800.0</td><td>22.7259</td></tr><tr><th>5</th><td>cycle</td><td>230.513</td><td>-230.513</td><td>0.0</td><td>0.0</td><td>3.55271e-15</td></tr></tbody></table>"
      ],
      "text/latex": [
       "\\begin{tabular}{r|cccccc}\n",
       "\t& path & Q & W & delta\\_U & delta\\_H & delta\\_S\\\\\n",
       "\t\\hline\n",
       "\t& String & Float64 & Float64 & Float64 & Float64 & Float64\\\\\n",
       "\t\\hline\n",
       "\t1 & 1 -> 2 & 345.77 & -345.77 & 0.0 & 0.0 & 1.15257 \\\\\n",
       "\t2 & 2 -> 3 & -4137.2 & 0.0 & -4137.2 & -5800.0 & -22.7259 \\\\\n",
       "\t3 & 3 -> 4 & -115.257 & 115.257 & 0.0 & 0.0 & -1.15257 \\\\\n",
       "\t4 & 4 -> 1 & 4137.2 & 0.0 & 4137.2 & 5800.0 & 22.7259 \\\\\n",
       "\t5 & cycle & 230.513 & -230.513 & 0.0 & 0.0 & 3.55271e-15 \\\\\n",
       "\\end{tabular}\n"
      ],
      "text/plain": [
       "5×6 DataFrame\n",
       "│ Row │ path   │ Q        │ W        │ delta_U │ delta_H │ delta_S     │\n",
       "│     │ \u001b[90mString\u001b[39m │ \u001b[90mFloat64\u001b[39m  │ \u001b[90mFloat64\u001b[39m  │ \u001b[90mFloat64\u001b[39m │ \u001b[90mFloat64\u001b[39m │ \u001b[90mFloat64\u001b[39m     │\n",
       "├─────┼────────┼──────────┼──────────┼─────────┼─────────┼─────────────┤\n",
       "│ 1   │ 1 -> 2 │ 345.77   │ -345.77  │ 0.0     │ 0.0     │ 1.15257     │\n",
       "│ 2   │ 2 -> 3 │ -4137.2  │ 0.0      │ -4137.2 │ -5800.0 │ -22.7259    │\n",
       "│ 3   │ 3 -> 4 │ -115.257 │ 115.257  │ 0.0     │ 0.0     │ -1.15257    │\n",
       "│ 4   │ 4 -> 1 │ 4137.2   │ 0.0      │ 4137.2  │ 5800.0  │ 22.7259     │\n",
       "│ 5   │ cycle  │ 230.513  │ -230.513 │ 0.0     │ 0.0     │ 3.55271e-15 │"
      ]
     },
     "execution_count": 7,
     "metadata": {},
     "output_type": "execute_result"
    }
   ],
   "source": [
    "# compute the path table -\n",
    "pathTable = compute_cycle_values(stateTable,cd)"
   ]
  },
  {
   "cell_type": "code",
   "execution_count": 8,
   "metadata": {},
   "outputs": [
    {
     "data": {
      "text/plain": [
       "0.6666666666666666"
      ]
     },
     "execution_count": 8,
     "metadata": {},
     "output_type": "execute_result"
    }
   ],
   "source": [
    "# compute the efficiency -\n",
    "eff_stirling = compute_efficiency(stateTable, cd)"
   ]
  },
  {
   "cell_type": "code",
   "execution_count": 14,
   "metadata": {},
   "outputs": [],
   "source": [
    "# compute Carnot eff -"
   ]
  },
  {
   "cell_type": "code",
   "execution_count": 9,
   "metadata": {},
   "outputs": [
    {
     "data": {
      "text/plain": [
       "0.6666666666666667"
      ]
     },
     "execution_count": 9,
     "metadata": {},
     "output_type": "execute_result"
    }
   ],
   "source": [
    "eff_carnot = 1 - (minimum(stateTable[!,:T])/maximum(stateTable[!,:T]))"
   ]
  },
  {
   "cell_type": "markdown",
   "metadata": {},
   "source": [
    "#### Plot/sketch the Stirling cycle on a T-S plane"
   ]
  },
  {
   "cell_type": "code",
   "execution_count": 15,
   "metadata": {},
   "outputs": [
    {
     "data": {
      "image/png": "[encoded data removed]",
      "text/plain": [
       "Figure(PyObject <Figure size 640x480 with 1 Axes>)"
      ]
     },
     "metadata": {},
     "output_type": "display_data"
    }
   ],
   "source": [
    "# plot the TS diagram -\n",
    "# You need to pick an arbitary S1 value so we can see the cycle -\n",
    "plot_TS_diagram(stateTable,pathTable);\n",
    "xlabel(\"S [J/mol-K]\",fontsize=16);\n",
    "ylabel(\"T [K]\",fontsize=16);"
   ]
  },
  {
   "cell_type": "code",
   "execution_count": null,
   "metadata": {},
   "outputs": [],
   "source": []
  }
 ],
 "metadata": {
  "kernelspec": {
   "display_name": "Julia 1.4.2",
   "language": "julia",
   "name": "julia-1.4"
  },
  "language_info": {
   "file_extension": ".jl",
   "mimetype": "application/julia",
   "name": "julia",
   "version": "1.4.2"
  }
 },
 "nbformat": 4,
 "nbformat_minor": 4
}
