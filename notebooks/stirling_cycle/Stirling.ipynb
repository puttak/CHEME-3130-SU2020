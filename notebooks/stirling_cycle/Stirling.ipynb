{
 "cells": [
  {
   "cell_type": "code",
   "execution_count": 7,
   "metadata": {},
   "outputs": [],
   "source": [
    "# include -\n",
    "include(\"./src/solution.jl\");"
   ]
  },
  {
   "cell_type": "code",
   "execution_count": 8,
   "metadata": {},
   "outputs": [
    {
     "data": {
      "text/html": [
       "<table class=\"data-frame\"><thead><tr><th></th><th>State</th><th>T</th><th>P</th><th>V</th></tr><tr><th></th><th>Int64</th><th>Int64</th><th>Float64</th><th>Float64</th></tr></thead><tbody><p>4 rows × 4 columns</p><tr><th>1</th><td>1</td><td>300</td><td>3.0</td><td>8.314</td></tr><tr><th>2</th><td>2</td><td>300</td><td>0.75</td><td>33.256</td></tr><tr><th>3</th><td>3</td><td>100</td><td>0.25</td><td>33.256</td></tr><tr><th>4</th><td>4</td><td>100</td><td>1.0</td><td>8.314</td></tr></tbody></table>"
      ],
      "text/latex": [
       "\\begin{tabular}{r|cccc}\n",
       "\t& State & T & P & V\\\\\n",
       "\t\\hline\n",
       "\t& Int64 & Int64 & Float64 & Float64\\\\\n",
       "\t\\hline\n",
       "\t1 & 1 & 300 & 3.0 & 8.314 \\\\\n",
       "\t2 & 2 & 300 & 0.75 & 33.256 \\\\\n",
       "\t3 & 3 & 100 & 0.25 & 33.256 \\\\\n",
       "\t4 & 4 & 100 & 1.0 & 8.314 \\\\\n",
       "\\end{tabular}\n"
      ],
      "text/plain": [
       "4×4 DataFrame\n",
       "│ Row │ State │ T     │ P       │ V       │\n",
       "│     │ \u001b[90mInt64\u001b[39m │ \u001b[90mInt64\u001b[39m │ \u001b[90mFloat64\u001b[39m │ \u001b[90mFloat64\u001b[39m │\n",
       "├─────┼───────┼───────┼─────────┼─────────┤\n",
       "│ 1   │ 1     │ 300   │ 3.0     │ 8.314   │\n",
       "│ 2   │ 2     │ 300   │ 0.75    │ 33.256  │\n",
       "│ 3   │ 3     │ 100   │ 0.25    │ 33.256  │\n",
       "│ 4   │ 4     │ 100   │ 1.0     │ 8.314   │"
      ]
     },
     "execution_count": 8,
     "metadata": {},
     "output_type": "execute_result"
    }
   ],
   "source": [
    "# load my state table -\n",
    "path_to_state_table_file = \"./src/data/State.csv\"\n",
    "stateTable = load_state_table(path_to_state_table_file)"
   ]
  },
  {
   "cell_type": "code",
   "execution_count": 3,
   "metadata": {},
   "outputs": [
    {
     "data": {
      "text/plain": [
       "Dict{String,Any} with 4 entries:\n",
       "  \"Rhat\" => 0.8314\n",
       "  \"Cv\"   => 20.686\n",
       "  \"R\"    => 8.314\n",
       "  \"Cp\"   => 29.0"
      ]
     },
     "execution_count": 3,
     "metadata": {},
     "output_type": "execute_result"
    }
   ],
   "source": [
    "# load some constants -\n",
    "path_to_constants_file = \"./src/data/Constants.json\"\n",
    "cd = load_constants_dictionary(path_to_constants_file)"
   ]
  },
  {
   "cell_type": "code",
   "execution_count": 9,
   "metadata": {},
   "outputs": [
    {
     "data": {
      "text/html": [
       "<table class=\"data-frame\"><thead><tr><th></th><th>path</th><th>Q</th><th>W</th><th>delta_U</th><th>delta_H</th><th>delta_S</th></tr><tr><th></th><th>String</th><th>Float64</th><th>Float64</th><th>Float64</th><th>Float64</th><th>Float64</th></tr></thead><tbody><p>5 rows × 6 columns</p><tr><th>1</th><td>1 -&gt; 2</td><td>345.77</td><td>-345.77</td><td>0.0</td><td>0.0</td><td>1.15257</td></tr><tr><th>2</th><td>2 -&gt; 3</td><td>-4137.2</td><td>0.0</td><td>-4137.2</td><td>-5800.0</td><td>-22.7259</td></tr><tr><th>3</th><td>3 -&gt; 4</td><td>-115.257</td><td>115.257</td><td>0.0</td><td>0.0</td><td>-1.15257</td></tr><tr><th>4</th><td>4 -&gt; 1</td><td>4137.2</td><td>0.0</td><td>4137.2</td><td>5800.0</td><td>22.7259</td></tr><tr><th>5</th><td>cycle</td><td>230.513</td><td>-230.513</td><td>0.0</td><td>0.0</td><td>3.55271e-15</td></tr></tbody></table>"
      ],
      "text/latex": [
       "\\begin{tabular}{r|cccccc}\n",
       "\t& path & Q & W & delta\\_U & delta\\_H & delta\\_S\\\\\n",
       "\t\\hline\n",
       "\t& String & Float64 & Float64 & Float64 & Float64 & Float64\\\\\n",
       "\t\\hline\n",
       "\t1 & 1 -> 2 & 345.77 & -345.77 & 0.0 & 0.0 & 1.15257 \\\\\n",
       "\t2 & 2 -> 3 & -4137.2 & 0.0 & -4137.2 & -5800.0 & -22.7259 \\\\\n",
       "\t3 & 3 -> 4 & -115.257 & 115.257 & 0.0 & 0.0 & -1.15257 \\\\\n",
       "\t4 & 4 -> 1 & 4137.2 & 0.0 & 4137.2 & 5800.0 & 22.7259 \\\\\n",
       "\t5 & cycle & 230.513 & -230.513 & 0.0 & 0.0 & 3.55271e-15 \\\\\n",
       "\\end{tabular}\n"
      ],
      "text/plain": [
       "5×6 DataFrame\n",
       "│ Row │ path   │ Q        │ W        │ delta_U │ delta_H │ delta_S     │\n",
       "│     │ \u001b[90mString\u001b[39m │ \u001b[90mFloat64\u001b[39m  │ \u001b[90mFloat64\u001b[39m  │ \u001b[90mFloat64\u001b[39m │ \u001b[90mFloat64\u001b[39m │ \u001b[90mFloat64\u001b[39m     │\n",
       "├─────┼────────┼──────────┼──────────┼─────────┼─────────┼─────────────┤\n",
       "│ 1   │ 1 -> 2 │ 345.77   │ -345.77  │ 0.0     │ 0.0     │ 1.15257     │\n",
       "│ 2   │ 2 -> 3 │ -4137.2  │ 0.0      │ -4137.2 │ -5800.0 │ -22.7259    │\n",
       "│ 3   │ 3 -> 4 │ -115.257 │ 115.257  │ 0.0     │ 0.0     │ -1.15257    │\n",
       "│ 4   │ 4 -> 1 │ 4137.2   │ 0.0      │ 4137.2  │ 5800.0  │ 22.7259     │\n",
       "│ 5   │ cycle  │ 230.513  │ -230.513 │ 0.0     │ 0.0     │ 3.55271e-15 │"
      ]
     },
     "execution_count": 9,
     "metadata": {},
     "output_type": "execute_result"
    }
   ],
   "source": [
    "# compute the path table -\n",
    "pathTable = compute_cycle_values(stateTable,cd)"
   ]
  },
  {
   "cell_type": "code",
   "execution_count": 13,
   "metadata": {},
   "outputs": [
    {
     "data": {
      "text/plain": [
       "0.6666666666666666"
      ]
     },
     "execution_count": 13,
     "metadata": {},
     "output_type": "execute_result"
    }
   ],
   "source": [
    "# compute the efficiency -\n",
    "eff_stirling = compute_efficiency(stateTable, cd)"
   ]
  },
  {
   "cell_type": "code",
   "execution_count": 14,
   "metadata": {},
   "outputs": [],
   "source": [
    "# compute Carnot eff -"
   ]
  },
  {
   "cell_type": "code",
   "execution_count": 15,
   "metadata": {},
   "outputs": [
    {
     "data": {
      "text/plain": [
       "0.6666666666666667"
      ]
     },
     "execution_count": 15,
     "metadata": {},
     "output_type": "execute_result"
    }
   ],
   "source": [
    "eff_carnot = 1 - (minimum(stateTable[!,:T])/maximum(stateTable[!,:T]))"
   ]
  },
  {
   "cell_type": "markdown",
   "metadata": {},
   "source": [
    "#### Solution strategy:\n",
    "Start with the state table, find all values that you don't need to compute (because of the cycle, and what was given in the problem). This will leave estimating missing values using the IGL equation of state. When the state table is done, fill in the path table. Again, start by filling in values that you don't need to do any computation for e.g., constant volume = no work. Next, start with $\\Delta{U}$, $\\Delta{H}$ and $\\Delta{S}$. To compute $\\Delta{U}$ on $\\mathcal{P}_{ij}$:\n",
    "\n",
    "\\begin{equation}\n",
    "\\Delta{U}_{ij} = C_{V}\\Delta{T}_{ji}\n",
    "\\end{equation} \n",
    "\n",
    "while for $\\Delta{H}$ you can use:\n",
    "\n",
    "\\begin{equation}\n",
    "\\Delta{H}_{ij} = C_{P}\\Delta{T}_{ji}\n",
    "\\end{equation}"
   ]
  },
  {
   "cell_type": "markdown",
   "metadata": {},
   "source": [
    "To compute the entropy change, it depends upon the type of path. For isothermal paths we have:\n",
    "\n",
    "\\begin{equation}\n",
    "\\Delta{S}_{ij} = R\\ln\\left(V_{j}/V_{i}\\right)\n",
    "\\end{equation} \n",
    "\n",
    "while for constant volume paths, we can use:\n",
    "\n",
    "\\begin{equation}\n",
    "\\Delta{S}_{ij} = C_{V}\\ln\\left(T_{j}/T_{i}\\right)\n",
    "\\end{equation}"
   ]
  },
  {
   "cell_type": "markdown",
   "metadata": {},
   "source": [
    "Lastly, you can compute the heat and work either using the heat capacity for heat, or by the work expression:\n",
    "\n",
    "\\begin{equation}\n",
    "W_{ij} = -\\int_{V_{i}}^{V_{j}}PdV\n",
    "\\end{equation}\n",
    "\n",
    "where you substitute the IGL equation of state into the integral to arrive at:\n",
    "\n",
    "\\begin{equation}\n",
    "W_{ij} = -RT\\ln\\left(V_{j}/V_{i}\\right)\n",
    "\\end{equation} for the isothermal paths. Remember that $\\Delta{U}$ = Q+W."
   ]
  },
  {
   "cell_type": "code",
   "execution_count": null,
   "metadata": {},
   "outputs": [],
   "source": []
  }
 ],
 "metadata": {
  "kernelspec": {
   "display_name": "Julia 1.4.2",
   "language": "julia",
   "name": "julia-1.4"
  },
  "language_info": {
   "file_extension": ".jl",
   "mimetype": "application/julia",
   "name": "julia",
   "version": "1.4.2"
  }
 },
 "nbformat": 4,
 "nbformat_minor": 4
}
