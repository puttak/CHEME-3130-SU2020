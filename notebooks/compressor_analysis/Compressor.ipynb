{
 "cells": [
  {
   "cell_type": "markdown",
   "metadata": {},
   "source": [
    "<img src=\"./figs/VCRC.pdf\">\n",
    "\n",
    "### Example\n",
    "An ideal steady-state vapor-compression refrigeration cycle uses R-508B as its working fluid. \n",
    "Saturated vapor enters the compressor at -60$^{\\circ}$C, while saturated liquid leaves the condenser at 0$^{\\circ}$C.\n",
    "The compressor has efficiency $\\eta_{c}$ = 45\\% and R-508B has a mass flow rate of 10 kg/min.\n",
    "\n",
    "R-508B saturation properties: At T = 0$^{\\circ}$C, $S_{l}$ = 1.0 kJ/kg-K and $S_{v}$ = 1.2750 kJ/kg-K.\n",
    "At T = -60$^{\\circ}$C, $S_{l}$ = 0.6710 kJ/kg-K and $S_{v}$ = 1.3560 kJ/kg-K.\n",
    "\n",
    "* Estimate the state of R-508B at the VCRC operating points from the R-508B P-H diagram\n",
    "* Compute the rate of work required to compress R-508B on path $\\mathcal{P}_{23}$\n",
    "* Compute the rate of lost work (kW) for the compressor ($\\mathcal{P}_{23}$)"
   ]
  },
  {
   "cell_type": "markdown",
   "metadata": {},
   "source": [
    "### Approach"
   ]
  },
  {
   "cell_type": "markdown",
   "metadata": {},
   "source": [
    "Starting from the steady-state open first law equation:\n",
    "\\begin{equation}\n",
    "\t\\dot{Q}+\\dot{W}_{s} + \\sum_{s=1}^{\\mathcal{S}}\\nu_{s}H_{s}\\dot{m}_{s}  =  0\n",
    "\\end{equation}\n",
    "\n",
    "we can begin by throwing out terms. The turbine is insulated, so $\\dot{Q}_{s}$ = 0 which (after rearrangment) gives an expression for the work:\n",
    "\n",
    "\\begin{equation}\n",
    "\\dot{W}_{s} = \\dot{m}\\Bigl(H_{3} - H_{2}\\Bigr)_{I}\n",
    "\\end{equation}\n",
    "\n",
    "where the superscript $I$ denotes irreversible (we have an efficiency less that 100\\%, so the real transformation is irreversible). We know that efficiency is given by:\n",
    "\n",
    "\\begin{equation}\n",
    "\\eta_{C} = \\frac{\\Delta{H}_{R}}{\\Delta{H}_{I}}\n",
    "\\end{equation}\n",
    "\n",
    "Thus, we can substitute the $\\eta_{T}$ into the work expression to arrive at:\n",
    "\n",
    "\\begin{equation}\n",
    "\\dot{W}_{s} = \\eta_{C}^{-1}\\Bigl[\\dot{m}\\bigl(H_{3} - H_{2}\\bigr)_{R}\\Bigr]\n",
    "\\end{equation}\n",
    "\n",
    "where the subscript $R$ denotes the reversible enthalpy change."
   ]
  },
  {
   "cell_type": "markdown",
   "metadata": {},
   "source": [
    "### Solution"
   ]
  },
  {
   "cell_type": "markdown",
   "metadata": {},
   "source": [
    "<img src=\"./figs/VCRC-R508B-OPs.pdf\">"
   ]
  },
  {
   "cell_type": "code",
   "execution_count": null,
   "metadata": {},
   "outputs": [],
   "source": []
  }
 ],
 "metadata": {
  "kernelspec": {
   "display_name": "Julia 1.4.2",
   "language": "julia",
   "name": "julia-1.4"
  },
  "language_info": {
   "file_extension": ".jl",
   "mimetype": "application/julia",
   "name": "julia",
   "version": "1.4.2"
  }
 },
 "nbformat": 4,
 "nbformat_minor": 4
}
