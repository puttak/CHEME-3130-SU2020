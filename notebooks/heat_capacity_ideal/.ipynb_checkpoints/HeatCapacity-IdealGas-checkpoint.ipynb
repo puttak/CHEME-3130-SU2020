{
 "cells": [
  {
   "cell_type": "markdown",
   "metadata": {},
   "source": [
    "## Example: Does N$_{2}$ behave like an ideal diatomic gas? ##\n",
    "From theory, the difference between the constant volume $C_{V}$ (J mol$^{-1}$ K$^{-1}$), and constant pressure $C_{P}$ (J mol$^{-1}$ K$^{-1}$) heat capacities should equal $R$. Let's test this derivation using data from NIST. Calculate the difference between $C_{V}$ and $C_{P}$ for N$_{2}$ at 1 ATM for a range of temperatures (T = 298K to T = 398K)."
   ]
  },
  {
   "cell_type": "code",
   "execution_count": null,
   "metadata": {},
   "outputs": [
    {
     "name": "stderr",
     "output_type": "stream",
     "text": [
      "┌ Info: Precompiling DataFrames [a93c6f00-e57d-5684-b7b6-d8193f3e46c0]\n",
      "└ @ Base loading.jl:1260\n",
      "┌ Info: Precompiling CSV [336ed68f-0bac-5ca0-87d4-7b16caf5d00b]\n",
      "└ @ Base loading.jl:1260\n",
      "┌ Info: Precompiling PyPlot [d330b81b-6aea-500a-939a-2ce795aea3ee]\n",
      "└ @ Base loading.jl:1260\n"
     ]
    }
   ],
   "source": [
    "# Load Julia packages -\n",
    "using DataFrames\n",
    "using CSV\n",
    "using PyPlot\n",
    "\n",
    "# Load the data from NIST -\n",
    "nitrogen_data_table = CSV.read(\"Nitrogen-NIST-1-ATM.txt\",delim='\\t');"
   ]
  },
  {
   "cell_type": "code",
   "execution_count": 4,
   "metadata": {},
   "outputs": [
    {
     "data": {
      "text/html": [
       "<table class=\"data-frame\"><thead><tr><th></th><th>Temperature (K)</th><th>Pressure (MPa)</th><th>Density (mol/l)</th><th>Volume (l/mol)</th><th>Internal Energy (kJ/mol)</th><th>Enthalpy (kJ/mol)</th><th>Entropy (J/mol*K)</th><th>Cv (J/mol*K)</th><th>Cp (J/mol*K)</th><th>Sound Spd. (m/s)</th><th>Joule-Thomson (K/MPa)</th><th>Viscosity (uPa*s)</th><th>Therm. Cond. (W/m*K)</th><th>Phase</th></tr></thead><tbody><tr><th>1</th><td>298.15</td><td>0.10132</td><td>0.040882</td><td>24.461</td><td>6.1852</td><td>8.6636</td><td>191.48</td><td>20.818</td><td>29.172</td><td>352.07</td><td>2.1485</td><td>17.812</td><td>0.025735</td><td>vapor</td></tr><tr><th>2</th><td>308.15</td><td>0.10132</td><td>0.039552</td><td>25.283</td><td>6.3936</td><td>8.9554</td><td>192.44</td><td>20.823</td><td>29.173</td><td>357.92</td><td>1.997</td><td>18.271</td><td>0.026401</td><td>vapor</td></tr><tr><th>3</th><td>318.15</td><td>0.10132</td><td>0.038306</td><td>26.105</td><td>6.602</td><td>9.2471</td><td>193.37</td><td>20.828</td><td>29.177</td><td>363.68</td><td>1.8566</td><td>18.723</td><td>0.027059</td><td>vapor</td></tr><tr><th>4</th><td>328.15</td><td>0.10132</td><td>0.037137</td><td>26.928</td><td>6.8105</td><td>9.5389</td><td>194.28</td><td>20.836</td><td>29.182</td><td>369.34</td><td>1.7263</td><td>19.169</td><td>0.027709</td><td>vapor</td></tr><tr><th>5</th><td>338.15</td><td>0.10132</td><td>0.036036</td><td>27.75</td><td>7.019</td><td>9.8308</td><td>195.15</td><td>20.844</td><td>29.188</td><td>374.91</td><td>1.605</td><td>19.609</td><td>0.028353</td><td>vapor</td></tr><tr><th>6</th><td>348.15</td><td>0.10132</td><td>0.035</td><td>28.572</td><td>7.2277</td><td>10.123</td><td>196.0</td><td>20.855</td><td>29.197</td><td>380.39</td><td>1.4918</td><td>20.044</td><td>0.02899</td><td>vapor</td></tr><tr><th>7</th><td>358.15</td><td>0.10132</td><td>0.034021</td><td>29.394</td><td>7.4364</td><td>10.415</td><td>196.83</td><td>20.867</td><td>29.207</td><td>385.79</td><td>1.3859</td><td>20.474</td><td>0.029621</td><td>vapor</td></tr><tr><th>8</th><td>368.15</td><td>0.10132</td><td>0.033096</td><td>30.215</td><td>7.6453</td><td>10.707</td><td>197.64</td><td>20.881</td><td>29.219</td><td>391.1</td><td>1.2867</td><td>20.898</td><td>0.030246</td><td>vapor</td></tr><tr><th>9</th><td>378.15</td><td>0.10132</td><td>0.03222</td><td>31.037</td><td>7.8543</td><td>10.999</td><td>198.42</td><td>20.897</td><td>29.234</td><td>396.34</td><td>1.1936</td><td>21.317</td><td>0.030866</td><td>vapor</td></tr><tr><th>10</th><td>388.15</td><td>0.10132</td><td>0.031389</td><td>31.859</td><td>8.0634</td><td>11.292</td><td>199.18</td><td>20.915</td><td>29.25</td><td>401.5</td><td>1.106</td><td>21.732</td><td>0.031482</td><td>vapor</td></tr><tr><th>11</th><td>398.15</td><td>0.10132</td><td>0.030599</td><td>32.68</td><td>8.2728</td><td>11.584</td><td>199.93</td><td>20.935</td><td>29.269</td><td>406.58</td><td>1.0236</td><td>22.141</td><td>0.032093</td><td>vapor</td></tr></tbody></table>"
      ],
      "text/plain": [
       "11×14 DataFrame. Omitted printing of 10 columns\n",
       "│ Row │ Temperature (K) │ Pressure (MPa) │ Density (mol/l) │ Volume (l/mol) │\n",
       "├─────┼─────────────────┼────────────────┼─────────────────┼────────────────┤\n",
       "│ 1   │ 298.15          │ 0.10132        │ 0.040882        │ 24.461         │\n",
       "│ 2   │ 308.15          │ 0.10132        │ 0.039552        │ 25.283         │\n",
       "│ 3   │ 318.15          │ 0.10132        │ 0.038306        │ 26.105         │\n",
       "│ 4   │ 328.15          │ 0.10132        │ 0.037137        │ 26.928         │\n",
       "│ 5   │ 338.15          │ 0.10132        │ 0.036036        │ 27.75          │\n",
       "│ 6   │ 348.15          │ 0.10132        │ 0.035           │ 28.572         │\n",
       "│ 7   │ 358.15          │ 0.10132        │ 0.034021        │ 29.394         │\n",
       "│ 8   │ 368.15          │ 0.10132        │ 0.033096        │ 30.215         │\n",
       "│ 9   │ 378.15          │ 0.10132        │ 0.03222         │ 31.037         │\n",
       "│ 10  │ 388.15          │ 0.10132        │ 0.031389        │ 31.859         │\n",
       "│ 11  │ 398.15          │ 0.10132        │ 0.030599        │ 32.68          │"
      ]
     },
     "execution_count": 4,
     "metadata": {},
     "output_type": "execute_result"
    }
   ],
   "source": [
    "nitrogen_data_table"
   ]
  },
  {
   "cell_type": "code",
   "execution_count": null,
   "metadata": {},
   "outputs": [],
   "source": [
    "# Plot the difference between cv and cp as a function of T -\n",
    "difference_heat_capacity = nitrogen_data_table[:,9] - nitrogen_data_table[:,8]\n",
    "temp_range = nitrogen_data_table[:,1]\n",
    "\n",
    "# make the plot -\n",
    "plot(temp_range,difference_heat_capacity,\"o--\");\n",
    "\n",
    "# label the axis -\n",
    "xlabel(\"Temperature (K)\",fontsize=16);\n",
    "ylabel(L\"$c_{P}$ - $c_{V}$ (J mol$^{-1}$ K$^{-1}$)\",fontsize=16);"
   ]
  },
  {
   "cell_type": "markdown",
   "metadata": {},
   "source": [
    "#### How many degrees of freedom does N$_{2}$ have?"
   ]
  },
  {
   "cell_type": "markdown",
   "metadata": {},
   "source": [
    "Theory tells us that the specific constant volume heat capacity $C_{V}$ (J mol$^{-1}$ K$^{-1}$) for an _ideal gas_ is given by: \n",
    "\n",
    "\\begin{equation}\n",
    "C_{V} = \\left(\\frac{f}{2}\\right)R\n",
    "\\end{equation} \n",
    "\n",
    "where $f$ denotes the number of degrees of freedom for the molecule of interest (in this case N$_{2}$). Let's use the $C_{V}$ values from NIST to estimate $f$:"
   ]
  },
  {
   "cell_type": "code",
   "execution_count": 27,
   "metadata": {},
   "outputs": [
    {
     "data": {
      "text/plain": [
       "5.019725763771951"
      ]
     },
     "execution_count": 27,
     "metadata": {},
     "output_type": "execute_result"
    }
   ],
   "source": [
    "## compute the degrees of freedom f -\n",
    "data_point_index = 7\n",
    "R = 8.314 # units: J mol^-1 K^-1\n",
    "cV_value = nitrogen_data_table[data_point_index,8]\n",
    "\n",
    "# compute f -\n",
    "f_value = (2*cV_value)/R"
   ]
  },
  {
   "cell_type": "markdown",
   "metadata": {},
   "source": [
    "#### Does $f$ change with temperature $T$?"
   ]
  },
  {
   "cell_type": "code",
   "execution_count": 26,
   "metadata": {},
   "outputs": [
    {
     "data": {
      "text/plain": [
       "11-element Array{Float64,1}:\n",
       " 5.007938417127737 \n",
       " 5.009141207601636 \n",
       " 5.010343998075535 \n",
       " 5.012268462833774 \n",
       " 5.014192927592014 \n",
       " 5.016839066634592 \n",
       " 5.019725763771951 \n",
       " 5.023093577098869 \n",
       " 5.026942506615347 \n",
       " 5.0312725523213855\n",
       " 5.036083714216983 "
      ]
     },
     "execution_count": 26,
     "metadata": {},
     "output_type": "execute_result"
    }
   ],
   "source": [
    "cV_range = nitrogen_data_table[:,8]\n",
    "f_range = (2/R).*cV_range"
   ]
  },
  {
   "cell_type": "markdown",
   "metadata": {},
   "source": [
    "#### What is the internal energy of N$_{2}$?"
   ]
  },
  {
   "cell_type": "markdown",
   "metadata": {},
   "source": [
    "Theory tells us that the specific molar internal energy  u (J mol$^{-1}$) of an _ideal gas_ is given by:\n",
    "\n",
    "\\begin{equation}\n",
    "U = RT\\left(\\frac{f}{2}\\right)\n",
    "\\end{equation}\n",
    "\n",
    "where $T$ denotes temperature (K), $R$ denotes the ideal gas constant (J mol$^{-1}$ K$^{-1}$) and $f$ denotes the degrees of freedom of the molecule of interest. "
   ]
  },
  {
   "cell_type": "code",
   "execution_count": null,
   "metadata": {},
   "outputs": [],
   "source": [
    "## Compute the internal energy and compare with the data from NIST -\n",
    "temperate_range = nitrogen_data_table[:,1]\n",
    "u_measured = nitrogen_data_table[:,5]\n",
    "\n",
    "# compute the u-model (units: kJ/model )\n",
    "u_model = ((1/1000)*(f_value/2)*R).*temperate_range\n",
    "\n",
    "# plot the model versus the data -\n",
    "plot(u_measured,u_model,\"o--\");\n",
    "\n",
    "# label -\n",
    "xlabel(L\"$U$ measured (kJ mol$^{-1}$)\", fontsize=16);\n",
    "ylabel(L\"$U$ model (kJ mol$^{-1}$)\", fontsize=16);"
   ]
  },
  {
   "cell_type": "code",
   "execution_count": null,
   "metadata": {},
   "outputs": [],
   "source": []
  }
 ],
 "metadata": {
  "kernelspec": {
   "display_name": "Julia 1.4.2",
   "language": "julia",
   "name": "julia-1.4"
  },
  "language_info": {
   "file_extension": ".jl",
   "mimetype": "application/julia",
   "name": "julia",
   "version": "1.4.2"
  }
 },
 "nbformat": 4,
 "nbformat_minor": 4
}
