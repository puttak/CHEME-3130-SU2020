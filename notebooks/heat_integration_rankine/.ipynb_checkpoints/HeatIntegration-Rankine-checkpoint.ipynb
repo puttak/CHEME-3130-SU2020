{
 "cells": [
  {
   "cell_type": "markdown",
   "metadata": {},
   "source": [
    "<img src=\"./figs/Diagram.pdf\">\n",
    "\n",
    "### Example\n",
    "Consider a steady-state Rankine cycle with working fluid R134a, and all turbines and pumps ideal. Neglect the pump work. How does the overall efficiency $\\eta$ change if we recycle heat that is being rejected from the condensor to the boiler? "
   ]
  },
  {
   "cell_type": "markdown",
   "metadata": {},
   "source": [
    "### Approach\n",
    "The efficiency expression is the $\\eta$ = -$\\dot{W}_{net}$/$\\dot{Q}_{12}$. From the open first law, the heat required to move from $\\mathcal{O}_{1}$ to $\\mathcal{O}_{2}$ is given by:\n",
    "\n",
    "\\begin{equation}\n",
    "\\dot{Q}_{12} = \\dot{m}\\Delta{H}_{21}\n",
    "\\end{equation}\n",
    "\n",
    "Let's break the $\\dot{Q}_{12}$ into two parts, the heat coming from the condensor $\\alpha\\dot{Q}_{C}$ and the heat comning from burning natural gas, coal etc $\\dot{Q}_{H}$, thus:\n",
    "\n",
    "\\begin{equation}\n",
    "\\dot{Q}_{H} + \\alpha\\dot{Q}_{C} = \\dot{m}\\Delta{H}_{21}\n",
    "\\end{equation} or\n",
    "\n",
    "\\begin{equation}\n",
    "\\dot{Q}_{H} =  \\dot{m}\\Delta{H}_{21} - \\alpha\\dot{m}\\Delta{H}_{43}\n",
    "\\end{equation}\n",
    "\n",
    "where $\\alpha\\dot{Q}_{C}$ = $\\alpha\\dot{m}\\Delta{H}_{43}$, and $0\\leq\\alpha\\leq{1}$. The idea behind the efficiency is net work divided by the heat that we put in, which when recycling the condensor heat, is $\\dot{Q}_{H}$. Thus, the efficiency expression is given by:\n",
    "\n",
    "\\begin{equation}\n",
    "\\eta = - \\frac{\\dot{m}\\Delta{H}_{32}}{\\dot{m}\\Delta{H}_{21} - \\alpha\\dot{m}\\Delta{H}_{43}}\n",
    "\\end{equation}\n",
    "\n",
    "However, get can factor out the mass flow rate to give:\n",
    "\n",
    "\\begin{equation}\n",
    "\\eta = - \\frac{\\Delta{H}_{32}}{\\Delta{H}_{21} - \\alpha\\Delta{H}_{43}}\n",
    "\\end{equation}\n"
   ]
  },
  {
   "cell_type": "code",
   "execution_count": null,
   "metadata": {},
   "outputs": [],
   "source": []
  }
 ],
 "metadata": {
  "kernelspec": {
   "display_name": "Julia 1.4.2",
   "language": "julia",
   "name": "julia-1.4"
  },
  "language_info": {
   "file_extension": ".jl",
   "mimetype": "application/julia",
   "name": "julia",
   "version": "1.4.2"
  }
 },
 "nbformat": 4,
 "nbformat_minor": 4
}
